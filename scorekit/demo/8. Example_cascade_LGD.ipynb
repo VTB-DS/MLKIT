{
 "cells": [
  {
   "attachments": {},
   "cell_type": "markdown",
   "id": "e30d3b5f-5635-4d43-8461-126499af5591",
   "metadata": {},
   "source": [
    "# Демонстрация построения модели LGD\n",
    "# !!!Выборка с данными для запуска скрипта не предоставляется"
   ]
  },
  {
   "cell_type": "markdown",
   "id": "5e9d7242-861a-40c2-8c56-4206131f91be",
   "metadata": {},
   "source": [
    "## 1. Загрузка библиотек и выборок"
   ]
  },
  {
   "cell_type": "code",
   "execution_count": null,
   "id": "f799b748-1d31-4730-a627-916428088b25",
   "metadata": {},
   "outputs": [],
   "source": [
    "import pandas as pd\n",
    "import numpy as np\n",
    "from vtb_scorekit.data import DataSamples\n",
    "from vtb_scorekit.woe import WOE\n",
    "from vtb_scorekit.model import LogisticRegressionModel\n",
    "from vtb_scorekit.cascade import Cascade\n",
    "\n",
    "### для запуска скрипта необходимо использовать свою выборку \n",
    "df = ...\n",
    "module_features = ...\n",
    "###\n",
    "    "
   ]
  },
  {
   "cell_type": "markdown",
   "id": "9cf3b6f2-2b28-4321-87d9-7042f2ec4c24",
   "metadata": {},
   "source": [
    "## 2. Создание объектов DataSamples для каждого модуля\n",
    "ds - словарь вида {название модуля: {тип модели: DataSamples()}}\n",
    "\n",
    "тип модели = 0 для модели полного выздоровления и 1 - для полного убытка"
   ]
  },
  {
   "cell_type": "code",
   "execution_count": null,
   "id": "72d14d09-fb57-4cd3-b769-3ed9a1933d5c",
   "metadata": {
    "scrolled": true,
    "tags": []
   },
   "outputs": [],
   "source": [
    "ds = {}\n",
    "for module in module_features:\n",
    "    ds[module] = {}\n",
    "    for lgd in [0, 1]:\n",
    "        print(f'\\nCreating DataSamples for {module}_{lgd}...')\n",
    "        ds[module][lgd] = DataSamples(samples={'Train': df[df[module_sample_type[module]] == 'train'],   # выборка для разработки. Задается в виде словаря {название_сэмпла: датафрейм}, может содержать любое кол-во сэмплов\n",
    "                                               'Test': df[df[module_sample_type[module]] == 'test']},             \n",
    "                                      target=f'lgd{lgd}',                                           # целевая переменная\n",
    "                                      features=module_features[module],                             # список переменных. При None берутся все поля числового типа и нечисловые (кроме target, time_column, id_column, weights) с кол-вом уникльных значений меньше min_nunique\n",
    "                                      cat_columns=None if module=='ZALOG' else [],                  # список категориальных переменных. При None категориальными считаются все переменные с кол-вом уникальных значений меньше min_nunique\n",
    "                                      id_column='inn',                                              # уникальный в рамках среза айди наблюдения\n",
    "                                      time_column='year',                                           # дата среза\n",
    "                                      feature_descriptions=pd.read_excel('data/LGD_description.xlsx', index_col=0), # датафрейм с описанием переменных. Должен содержать индекс с названием переменных и любое кол-во полей с описанием, которые будут подтягиваться в отчеты\n",
    "                                      result_folder=f'LGD/{module}_{lgd}',                          # папка, в которую будут сохраняться все результаты работы с этим ДатаСэмплом\n",
    "                                      n_jobs=4,                                                     # кол-во используемых рабочих процессов, при -1 берется число, равное CPU_LIMIT\n",
    "                                      random_state=0,                                               # сид для генератора случайных чисел, используется во всех остальных методах, где необходимо\n",
    "                                      samples_split=None,                                             # словарь с параметрами для вызова метода self.samples_split\n",
    "                                      bootstrap_split={'df': df[df[module_sample_type[module]].isin(['train', 'test'])]}  # словарь с параметрами для вызова метода self.bootstrap_split\n",
    "                                      )"
   ]
  },
  {
   "cell_type": "markdown",
   "id": "35905a34-2b82-47f4-9506-b03d4301fa03",
   "metadata": {},
   "source": [
    "## 3. Создание каскада моделей\n",
    "Каскад состоит из двух моделей, каждая из которых в свою очередь содержит четыре модуля. \n",
    "\n",
    "Итоговый скор вычисляется кастомной функцией calc_lgd."
   ]
  },
  {
   "cell_type": "code",
   "execution_count": null,
   "id": "dfa51bb8-06f1-46f5-acdd-e02d8e4b11da",
   "metadata": {
    "scrolled": true,
    "tags": []
   },
   "outputs": [],
   "source": [
    "def calc_lgd(scores):   # scores - список [score_0, score_1, ...], где \n",
    "                        #          score_i - скор модели i каскада (self.models[i]), имеет тип pd.Series\n",
    "    pd0 = 1 / (1 + np.exp(-scores[0]))\n",
    "    pd1 = 1 / (1 + np.exp(-scores[1]))\n",
    "    return pd1 + 0.361*(1 - pd0 - pd1)\n",
    " \n",
    "cascade = Cascade(models=[                       # список моделей в каскаде. Элементами списка могут быть объекты класса Cascade, LogisticRegressionModel и названия полей отдельных скоров           \n",
    "                      Cascade(models=[LogisticRegressionModel(ds=ds['FO'][0], name='FO_0'),        # вложенный каскад для модели полного выздоровления lgd0, который в свою очередь состоит из четырх модулей\n",
    "                                      LogisticRegressionModel(ds=ds['PRAVO'][0], name='PRAVO_0'),\n",
    "                                      LogisticRegressionModel(ds=ds['KI'][0], name='KI_0'),\n",
    "                                      LogisticRegressionModel(ds=ds['ZALOG'][0], name='ZALOG_0'),\n",
    "                                     ],\n",
    "                              name='lgd0', \n",
    "                              ds=ds['main'][0]),\n",
    "                      Cascade(models=[LogisticRegressionModel(ds=ds['FO'][1], name='FO_1'),        # вложенный каскад для модели полного убытка lgd1\n",
    "                                      LogisticRegressionModel(ds=ds['PRAVO'][1], name='PRAVO_1'),\n",
    "                                      LogisticRegressionModel(ds=ds['KI'][1], name='KI_1'),\n",
    "                                      LogisticRegressionModel(ds=ds['ZALOG'][1], name='ZALOG_1'),\n",
    "                                     ],\n",
    "                              name='lgd1',\n",
    "                              ds=ds['main'][1])\n",
    "                         ], \n",
    "                  integral=calc_lgd,             # функция, вычисляющая интегральный скор каскада по списку скоров входящих в него моделей. При None интегральный скор вычисляется логрегом\n",
    "                  ds=ds['main'][0],              # ДатаСэмпл, на котором будет рассчитываться интегральный скор \n",
    "                  name='LGD'                     # название каскада\n",
    "                 )"
   ]
  },
  {
   "cell_type": "markdown",
   "id": "61f5285d-aa6e-4665-a5d4-901d111e6090",
   "metadata": {},
   "source": [
    "## 4. Автологрег по каскаду\n",
    "Рекурсивно происходит вызов метода self.auto_logreg() для всех элементов каскада:\n",
    "1) Если модель в каскаде не имеет биннинга (self.transformer=None), то для нее выполняется автобиннинг. \n",
    "2) Если не заданы коэффициенты в self.coefs, то выполняется МФА\n",
    "3) Генерируется отчет для полученной модели\n",
    "\n",
    "После обучения всех моделей в каскаде вычисляются их скоры на ДатаСэмпле self.ds (score_0, score_1, ...) и затем по ним вычисляется интегральный скор каскада:\n",
    "- При self.integral=None строится логрег на скорах score_0, score_1, ...\n",
    "- При заданном self.integral интегральный скор вычисляется как score_integral = self.integral([df[score_0], df[score_1], ...])"
   ]
  },
  {
   "cell_type": "code",
   "execution_count": null,
   "id": "61695ee3-c161-44ee-a013-1f7478905c19",
   "metadata": {
    "scrolled": true,
    "tags": []
   },
   "outputs": [],
   "source": [
    "%%time\n",
    "cascade.auto_logreg(ds=None,                          # ДатаСэмпл, на котором будет рассчитываться интегральный скор. При None берется self.ds\n",
    "                    validate=False,                   # флаг для выполнения валидацонных тестов\n",
    "                    out='auto_cascade.xlsx',          # либо строка с названием эксель файла, либо объект pd.ExcelWriter для сохранения отчета\n",
    "                    save_model='auto_cascade.json'    # название json файла для сохранения каскада\n",
    "                   )"
   ]
  },
  {
   "cell_type": "markdown",
   "id": "dd5f618e-31b0-476b-9135-e05aec269014",
   "metadata": {},
   "source": [
    "## 5. Применение модели\n",
    "### 5.1. С использованием библиотеки vtb_scorekit"
   ]
  },
  {
   "cell_type": "code",
   "execution_count": null,
   "id": "384ba017-0246-4179-97e1-9138b0ba50f3",
   "metadata": {},
   "outputs": [],
   "source": [
    "cascade = Cascade()\n",
    "cascade.load_model(file_name='LGD/main_0/auto_cascade.json')\n",
    "cascade.scoring(df,                              # ДатаСэмпл или ДатаФрейм. Возвращается объект того же типа\n",
    "               score_field='lgd_final',          # поле, в которое должен быть записан посчитанный скор\n",
    "               pd_field=None,                    # поле, в которое должен быть записан посчитанный PD\n",
    "               scale_field=None                  # поле, в которое должен быть записан посчитанный грейд\n",
    "              )"
   ]
  },
  {
   "cell_type": "markdown",
   "id": "1c314a1e-2e36-4d1c-aca7-5cee5fe08db7",
   "metadata": {},
   "source": [
    "### 5.2. Генерация хардкода для использования модели без сторонних библиотек"
   ]
  },
  {
   "cell_type": "code",
   "execution_count": null,
   "id": "49296112-fd91-4302-9e52-7aafbd0759b7",
   "metadata": {
    "scrolled": true,
    "tags": []
   },
   "outputs": [],
   "source": [
    "cascade.to_py(file_name='',                      # название питоновского файла, куда должен быть сохранен код\n",
    "             score_field='lgd_final',            # поле, в которое должен быть записан посчитанный скор\n",
    "             pd_field=None,                      # поле, в которое должен быть записан посчитанный PD\n",
    "             scale_field=None                    # поле, в которое должен быть записан посчитанный грейд\n",
    "            )"
   ]
  }
 ],
 "metadata": {
  "kernelspec": {
   "display_name": "ADH-USERS. Python 3",
   "language": "python",
   "name": "python3-adh-users"
  },
  "language_info": {
   "codemirror_mode": {
    "name": "ipython",
    "version": 3
   },
   "file_extension": ".py",
   "mimetype": "text/x-python",
   "name": "python",
   "nbconvert_exporter": "python",
   "pygments_lexer": "ipython3",
   "version": "3.7.9"
  }
 },
 "nbformat": 4,
 "nbformat_minor": 5
}
