{
 "cells": [
  {
   "cell_type": "markdown",
   "id": "447368e9",
   "metadata": {},
   "source": [
    "# Демонстрация автоматического отбора признаков с помощью PrimarySelection"
   ]
  },
  {
   "cell_type": "markdown",
   "id": "9d50d554",
   "metadata": {},
   "source": [
    "## Структура ноутбука:\n",
    "- Применение библиотеки PrimarySelection для задач регрессии\n",
    "    * Приведение числовых признаков к типу float, замена бесконечных значений;\n",
    "    * Проверка на пропущенные значения;\n",
    "    * Корреляционный анализ;\n",
    "    * Анализ признаков относительно глубины алгоритма;\n",
    "    * Проверка всех библиотек Permutation Importance (sklearn, eli5, собственный kib)   "
   ]
  },
  {
   "cell_type": "code",
   "execution_count": 1,
   "id": "c7eacaa0",
   "metadata": {},
   "outputs": [
    {
     "data": {
      "text/html": [
       "<style>.container {width:95% !important;}</style>"
      ],
      "text/plain": [
       "<IPython.core.display.HTML object>"
      ]
     },
     "metadata": {},
     "output_type": "display_data"
    }
   ],
   "source": [
    "# расширяем поле, убираем предупреждения\n",
    "from IPython.core.display import display, HTML\n",
    "display(HTML('<style>.container {width:95% !important;}</style>'))\n",
    "\n",
    "import warnings\n",
    "warnings.filterwarnings('ignore')"
   ]
  },
  {
   "cell_type": "code",
   "execution_count": 2,
   "id": "9acd42cb",
   "metadata": {},
   "outputs": [],
   "source": [
    "# Стандартные библиотеки для анализа\n",
    "import pandas as pd\n",
    "\n",
    "from sklearn.model_selection import train_test_split, KFold\n",
    "from sklearn.metrics import mean_absolute_percentage_error\n",
    "\n",
    "import matplotlib.pylab as pl"
   ]
  },
  {
   "cell_type": "code",
   "execution_count": 3,
   "id": "576f9496",
   "metadata": {},
   "outputs": [],
   "source": [
    "import sys\n",
    "sys.path.append('../')\n",
    "\n",
    "# Наша разработанная библиотека\n",
    "from autobinary import NansAnalysis, PrimarySelection, base_pipe"
   ]
  },
  {
   "cell_type": "code",
   "execution_count": 4,
   "id": "6372a900",
   "metadata": {},
   "outputs": [
    {
     "name": "stdout",
     "output_type": "stream",
     "text": [
      "pandas:  1.3.4\n",
      "numpy:  1.22.2\n",
      "scipy:  1.7.3\n",
      "sklearn:  1.1.3\n",
      "catboost:  1.0.4\n",
      "matplotlib:  3.7.0\n",
      "autobinary:  1.0.9\n"
     ]
    }
   ],
   "source": [
    "import sklearn as sk\n",
    "import catboost as ctb\n",
    "import matplotlib as mplot\n",
    "import autobinary as ab\n",
    "import numpy as np\n",
    "import scipy as sc\n",
    "\n",
    "print('pandas: ', pd.__version__)\n",
    "print('numpy: ', np.__version__)\n",
    "print('scipy: ', sc.__version__)\n",
    "print('sklearn: ', sk.__version__)\n",
    "print('catboost: ', ctb.__version__)\n",
    "print('matplotlib: ', mplot.__version__)\n",
    "print('autobinary: ', ab.__version__)"
   ]
  },
  {
   "cell_type": "markdown",
   "id": "e8fca412",
   "metadata": {},
   "source": [
    "* eli5==0.13.0"
   ]
  },
  {
   "cell_type": "markdown",
   "id": "35e56616",
   "metadata": {},
   "source": [
    "# Для регрессии"
   ]
  },
  {
   "cell_type": "code",
   "execution_count": 5,
   "id": "5e59e255",
   "metadata": {},
   "outputs": [
    {
     "name": "stdout",
     "output_type": "stream",
     "text": [
      "Размерность данных: (1460, 81)\n"
     ]
    },
    {
     "data": {
      "text/html": [
       "<div>\n",
       "<style scoped>\n",
       "    .dataframe tbody tr th:only-of-type {\n",
       "        vertical-align: middle;\n",
       "    }\n",
       "\n",
       "    .dataframe tbody tr th {\n",
       "        vertical-align: top;\n",
       "    }\n",
       "\n",
       "    .dataframe thead th {\n",
       "        text-align: right;\n",
       "    }\n",
       "</style>\n",
       "<table border=\"1\" class=\"dataframe\">\n",
       "  <thead>\n",
       "    <tr style=\"text-align: right;\">\n",
       "      <th></th>\n",
       "      <th>Id</th>\n",
       "      <th>MSSubClass</th>\n",
       "      <th>MSZoning</th>\n",
       "      <th>LotFrontage</th>\n",
       "      <th>LotArea</th>\n",
       "      <th>Street</th>\n",
       "      <th>Alley</th>\n",
       "      <th>LotShape</th>\n",
       "      <th>LandContour</th>\n",
       "      <th>Utilities</th>\n",
       "      <th>...</th>\n",
       "      <th>PoolArea</th>\n",
       "      <th>PoolQC</th>\n",
       "      <th>Fence</th>\n",
       "      <th>MiscFeature</th>\n",
       "      <th>MiscVal</th>\n",
       "      <th>MoSold</th>\n",
       "      <th>YrSold</th>\n",
       "      <th>SaleType</th>\n",
       "      <th>SaleCondition</th>\n",
       "      <th>SalePrice</th>\n",
       "    </tr>\n",
       "  </thead>\n",
       "  <tbody>\n",
       "    <tr>\n",
       "      <th>0</th>\n",
       "      <td>1</td>\n",
       "      <td>60</td>\n",
       "      <td>RL</td>\n",
       "      <td>65.0</td>\n",
       "      <td>8450</td>\n",
       "      <td>Pave</td>\n",
       "      <td>NaN</td>\n",
       "      <td>Reg</td>\n",
       "      <td>Lvl</td>\n",
       "      <td>AllPub</td>\n",
       "      <td>...</td>\n",
       "      <td>0</td>\n",
       "      <td>NaN</td>\n",
       "      <td>NaN</td>\n",
       "      <td>NaN</td>\n",
       "      <td>0</td>\n",
       "      <td>2</td>\n",
       "      <td>2008</td>\n",
       "      <td>WD</td>\n",
       "      <td>Normal</td>\n",
       "      <td>208500</td>\n",
       "    </tr>\n",
       "    <tr>\n",
       "      <th>1</th>\n",
       "      <td>2</td>\n",
       "      <td>20</td>\n",
       "      <td>RL</td>\n",
       "      <td>80.0</td>\n",
       "      <td>9600</td>\n",
       "      <td>Pave</td>\n",
       "      <td>NaN</td>\n",
       "      <td>Reg</td>\n",
       "      <td>Lvl</td>\n",
       "      <td>AllPub</td>\n",
       "      <td>...</td>\n",
       "      <td>0</td>\n",
       "      <td>NaN</td>\n",
       "      <td>NaN</td>\n",
       "      <td>NaN</td>\n",
       "      <td>0</td>\n",
       "      <td>5</td>\n",
       "      <td>2007</td>\n",
       "      <td>WD</td>\n",
       "      <td>Normal</td>\n",
       "      <td>181500</td>\n",
       "    </tr>\n",
       "  </tbody>\n",
       "</table>\n",
       "<p>2 rows × 81 columns</p>\n",
       "</div>"
      ],
      "text/plain": [
       "   Id  MSSubClass MSZoning  LotFrontage  LotArea Street Alley LotShape  \\\n",
       "0   1          60       RL         65.0     8450   Pave   NaN      Reg   \n",
       "1   2          20       RL         80.0     9600   Pave   NaN      Reg   \n",
       "\n",
       "  LandContour Utilities  ... PoolArea PoolQC Fence MiscFeature MiscVal MoSold  \\\n",
       "0         Lvl    AllPub  ...        0    NaN   NaN         NaN       0      2   \n",
       "1         Lvl    AllPub  ...        0    NaN   NaN         NaN       0      5   \n",
       "\n",
       "  YrSold  SaleType  SaleCondition  SalePrice  \n",
       "0   2008        WD         Normal     208500  \n",
       "1   2007        WD         Normal     181500  \n",
       "\n",
       "[2 rows x 81 columns]"
      ]
     },
     "execution_count": 5,
     "metadata": {},
     "output_type": "execute_result"
    }
   ],
   "source": [
    "sample = pd.read_csv('../data/train_houseprice.csv')\n",
    "\n",
    "print('Размерность данных:', sample.shape)\n",
    "sample.head(2)"
   ]
  },
  {
   "cell_type": "code",
   "execution_count": 6,
   "id": "1cfcbdf1",
   "metadata": {},
   "outputs": [],
   "source": [
    "num_columns = [\n",
    "    'LotArea', 'LotFrontage', 'TotalBsmtSF', 'PoolArea', 'FullBath'\n",
    "]\n",
    "\n",
    "cat_columns = [\n",
    "    'BldgType', 'CentralAir', 'GarageQual', 'Fence', 'SaleType'\n",
    "]\n",
    "\n",
    "features = num_columns+cat_columns\n",
    "\n",
    "target = 'SalePrice'"
   ]
  },
  {
   "cell_type": "code",
   "execution_count": 7,
   "id": "c6aba15a",
   "metadata": {},
   "outputs": [
    {
     "name": "stdout",
     "output_type": "stream",
     "text": [
      "Определены количественные и категориальные переменные!\n"
     ]
    }
   ],
   "source": [
    "prep_pipe = base_pipe(\n",
    "    num_columns=num_columns, \n",
    "    cat_columns=cat_columns)"
   ]
  },
  {
   "cell_type": "code",
   "execution_count": 8,
   "id": "d982eb8c",
   "metadata": {},
   "outputs": [
    {
     "name": "stdout",
     "output_type": "stream",
     "text": [
      "Все бесконечные значения заменены на пропуски, количественные переменные приведены к типу float!\n"
     ]
    },
    {
     "data": {
      "text/html": [
       "<div>\n",
       "<style scoped>\n",
       "    .dataframe tbody tr th:only-of-type {\n",
       "        vertical-align: middle;\n",
       "    }\n",
       "\n",
       "    .dataframe tbody tr th {\n",
       "        vertical-align: top;\n",
       "    }\n",
       "\n",
       "    .dataframe thead th {\n",
       "        text-align: right;\n",
       "    }\n",
       "</style>\n",
       "<table border=\"1\" class=\"dataframe\">\n",
       "  <thead>\n",
       "    <tr style=\"text-align: right;\">\n",
       "      <th></th>\n",
       "      <th>Id</th>\n",
       "      <th>MSSubClass</th>\n",
       "      <th>MSZoning</th>\n",
       "      <th>LotFrontage</th>\n",
       "      <th>LotArea</th>\n",
       "      <th>Street</th>\n",
       "      <th>Alley</th>\n",
       "      <th>LotShape</th>\n",
       "      <th>LandContour</th>\n",
       "      <th>Utilities</th>\n",
       "      <th>...</th>\n",
       "      <th>PoolArea</th>\n",
       "      <th>PoolQC</th>\n",
       "      <th>Fence</th>\n",
       "      <th>MiscFeature</th>\n",
       "      <th>MiscVal</th>\n",
       "      <th>MoSold</th>\n",
       "      <th>YrSold</th>\n",
       "      <th>SaleType</th>\n",
       "      <th>SaleCondition</th>\n",
       "      <th>SalePrice</th>\n",
       "    </tr>\n",
       "  </thead>\n",
       "  <tbody>\n",
       "    <tr>\n",
       "      <th>0</th>\n",
       "      <td>1</td>\n",
       "      <td>60</td>\n",
       "      <td>RL</td>\n",
       "      <td>65.0</td>\n",
       "      <td>8450.0</td>\n",
       "      <td>Pave</td>\n",
       "      <td>NaN</td>\n",
       "      <td>Reg</td>\n",
       "      <td>Lvl</td>\n",
       "      <td>AllPub</td>\n",
       "      <td>...</td>\n",
       "      <td>0.0</td>\n",
       "      <td>NaN</td>\n",
       "      <td>NaN</td>\n",
       "      <td>NaN</td>\n",
       "      <td>0</td>\n",
       "      <td>2</td>\n",
       "      <td>2008</td>\n",
       "      <td>WD</td>\n",
       "      <td>Normal</td>\n",
       "      <td>208500</td>\n",
       "    </tr>\n",
       "    <tr>\n",
       "      <th>1</th>\n",
       "      <td>2</td>\n",
       "      <td>20</td>\n",
       "      <td>RL</td>\n",
       "      <td>80.0</td>\n",
       "      <td>9600.0</td>\n",
       "      <td>Pave</td>\n",
       "      <td>NaN</td>\n",
       "      <td>Reg</td>\n",
       "      <td>Lvl</td>\n",
       "      <td>AllPub</td>\n",
       "      <td>...</td>\n",
       "      <td>0.0</td>\n",
       "      <td>NaN</td>\n",
       "      <td>NaN</td>\n",
       "      <td>NaN</td>\n",
       "      <td>0</td>\n",
       "      <td>5</td>\n",
       "      <td>2007</td>\n",
       "      <td>WD</td>\n",
       "      <td>Normal</td>\n",
       "      <td>181500</td>\n",
       "    </tr>\n",
       "    <tr>\n",
       "      <th>2</th>\n",
       "      <td>3</td>\n",
       "      <td>60</td>\n",
       "      <td>RL</td>\n",
       "      <td>68.0</td>\n",
       "      <td>11250.0</td>\n",
       "      <td>Pave</td>\n",
       "      <td>NaN</td>\n",
       "      <td>IR1</td>\n",
       "      <td>Lvl</td>\n",
       "      <td>AllPub</td>\n",
       "      <td>...</td>\n",
       "      <td>0.0</td>\n",
       "      <td>NaN</td>\n",
       "      <td>NaN</td>\n",
       "      <td>NaN</td>\n",
       "      <td>0</td>\n",
       "      <td>9</td>\n",
       "      <td>2008</td>\n",
       "      <td>WD</td>\n",
       "      <td>Normal</td>\n",
       "      <td>223500</td>\n",
       "    </tr>\n",
       "    <tr>\n",
       "      <th>3</th>\n",
       "      <td>4</td>\n",
       "      <td>70</td>\n",
       "      <td>RL</td>\n",
       "      <td>60.0</td>\n",
       "      <td>9550.0</td>\n",
       "      <td>Pave</td>\n",
       "      <td>NaN</td>\n",
       "      <td>IR1</td>\n",
       "      <td>Lvl</td>\n",
       "      <td>AllPub</td>\n",
       "      <td>...</td>\n",
       "      <td>0.0</td>\n",
       "      <td>NaN</td>\n",
       "      <td>NaN</td>\n",
       "      <td>NaN</td>\n",
       "      <td>0</td>\n",
       "      <td>2</td>\n",
       "      <td>2006</td>\n",
       "      <td>WD</td>\n",
       "      <td>Abnorml</td>\n",
       "      <td>140000</td>\n",
       "    </tr>\n",
       "    <tr>\n",
       "      <th>4</th>\n",
       "      <td>5</td>\n",
       "      <td>60</td>\n",
       "      <td>RL</td>\n",
       "      <td>84.0</td>\n",
       "      <td>14260.0</td>\n",
       "      <td>Pave</td>\n",
       "      <td>NaN</td>\n",
       "      <td>IR1</td>\n",
       "      <td>Lvl</td>\n",
       "      <td>AllPub</td>\n",
       "      <td>...</td>\n",
       "      <td>0.0</td>\n",
       "      <td>NaN</td>\n",
       "      <td>NaN</td>\n",
       "      <td>NaN</td>\n",
       "      <td>0</td>\n",
       "      <td>12</td>\n",
       "      <td>2008</td>\n",
       "      <td>WD</td>\n",
       "      <td>Normal</td>\n",
       "      <td>250000</td>\n",
       "    </tr>\n",
       "  </tbody>\n",
       "</table>\n",
       "<p>5 rows × 81 columns</p>\n",
       "</div>"
      ],
      "text/plain": [
       "   Id  MSSubClass MSZoning  LotFrontage  LotArea Street Alley LotShape  \\\n",
       "0   1          60       RL         65.0   8450.0   Pave   NaN      Reg   \n",
       "1   2          20       RL         80.0   9600.0   Pave   NaN      Reg   \n",
       "2   3          60       RL         68.0  11250.0   Pave   NaN      IR1   \n",
       "3   4          70       RL         60.0   9550.0   Pave   NaN      IR1   \n",
       "4   5          60       RL         84.0  14260.0   Pave   NaN      IR1   \n",
       "\n",
       "  LandContour Utilities  ... PoolArea PoolQC Fence MiscFeature MiscVal MoSold  \\\n",
       "0         Lvl    AllPub  ...      0.0    NaN   NaN         NaN       0      2   \n",
       "1         Lvl    AllPub  ...      0.0    NaN   NaN         NaN       0      5   \n",
       "2         Lvl    AllPub  ...      0.0    NaN   NaN         NaN       0      9   \n",
       "3         Lvl    AllPub  ...      0.0    NaN   NaN         NaN       0      2   \n",
       "4         Lvl    AllPub  ...      0.0    NaN   NaN         NaN       0     12   \n",
       "\n",
       "  YrSold  SaleType  SaleCondition  SalePrice  \n",
       "0   2008        WD         Normal     208500  \n",
       "1   2007        WD         Normal     181500  \n",
       "2   2008        WD         Normal     223500  \n",
       "3   2006        WD        Abnorml     140000  \n",
       "4   2008        WD         Normal     250000  \n",
       "\n",
       "[5 rows x 81 columns]"
      ]
     },
     "execution_count": 8,
     "metadata": {},
     "output_type": "execute_result"
    }
   ],
   "source": [
    "# обработка бесконечных и пропущенных значений\n",
    "\n",
    "nans = NansAnalysis(df=sample)\n",
    "\n",
    "sample = nans.to_types(num_columns=num_columns)\n",
    "sample.head()"
   ]
  },
  {
   "cell_type": "code",
   "execution_count": 9,
   "id": "3f317f93",
   "metadata": {},
   "outputs": [
    {
     "name": "stdout",
     "output_type": "stream",
     "text": [
      "Количество столбцов до: 81\n",
      "==================================================\n",
      "Удалены столбцы, имеющие долю пропусков > 90.0 %, количество оставшихся : 78 \n"
     ]
    }
   ],
   "source": [
    "# Проводим анализ на пропущенные значения. Столбцы имеющие пропусков больше percent.\n",
    "\n",
    "feat_after_nans = nans.fit(percent = 0.9)\n",
    "\n",
    "# Обновляем факторы\n",
    "\n",
    "num_columns = list(filter(lambda x: x in feat_after_nans, num_columns))\n",
    "cat_columns = list(filter(lambda x: x in feat_after_nans, cat_columns))"
   ]
  },
  {
   "cell_type": "code",
   "execution_count": 10,
   "id": "614b9814",
   "metadata": {},
   "outputs": [
    {
     "data": {
      "text/html": [
       "<div>\n",
       "<style scoped>\n",
       "    .dataframe tbody tr th:only-of-type {\n",
       "        vertical-align: middle;\n",
       "    }\n",
       "\n",
       "    .dataframe tbody tr th {\n",
       "        vertical-align: top;\n",
       "    }\n",
       "\n",
       "    .dataframe thead th {\n",
       "        text-align: right;\n",
       "    }\n",
       "</style>\n",
       "<table border=\"1\" class=\"dataframe\">\n",
       "  <thead>\n",
       "    <tr style=\"text-align: right;\">\n",
       "      <th></th>\n",
       "      <th>feature</th>\n",
       "      <th>cnt_null</th>\n",
       "      <th>share_nans</th>\n",
       "    </tr>\n",
       "  </thead>\n",
       "  <tbody>\n",
       "    <tr>\n",
       "      <th>72</th>\n",
       "      <td>PoolQC</td>\n",
       "      <td>1453</td>\n",
       "      <td>1.00</td>\n",
       "    </tr>\n",
       "    <tr>\n",
       "      <th>74</th>\n",
       "      <td>MiscFeature</td>\n",
       "      <td>1406</td>\n",
       "      <td>0.96</td>\n",
       "    </tr>\n",
       "    <tr>\n",
       "      <th>6</th>\n",
       "      <td>Alley</td>\n",
       "      <td>1369</td>\n",
       "      <td>0.94</td>\n",
       "    </tr>\n",
       "    <tr>\n",
       "      <th>73</th>\n",
       "      <td>Fence</td>\n",
       "      <td>1179</td>\n",
       "      <td>0.81</td>\n",
       "    </tr>\n",
       "    <tr>\n",
       "      <th>57</th>\n",
       "      <td>FireplaceQu</td>\n",
       "      <td>690</td>\n",
       "      <td>0.47</td>\n",
       "    </tr>\n",
       "    <tr>\n",
       "      <th>...</th>\n",
       "      <td>...</td>\n",
       "      <td>...</td>\n",
       "      <td>...</td>\n",
       "    </tr>\n",
       "    <tr>\n",
       "      <th>27</th>\n",
       "      <td>ExterQual</td>\n",
       "      <td>0</td>\n",
       "      <td>0.00</td>\n",
       "    </tr>\n",
       "    <tr>\n",
       "      <th>24</th>\n",
       "      <td>Exterior2nd</td>\n",
       "      <td>0</td>\n",
       "      <td>0.00</td>\n",
       "    </tr>\n",
       "    <tr>\n",
       "      <th>23</th>\n",
       "      <td>Exterior1st</td>\n",
       "      <td>0</td>\n",
       "      <td>0.00</td>\n",
       "    </tr>\n",
       "    <tr>\n",
       "      <th>22</th>\n",
       "      <td>RoofMatl</td>\n",
       "      <td>0</td>\n",
       "      <td>0.00</td>\n",
       "    </tr>\n",
       "    <tr>\n",
       "      <th>80</th>\n",
       "      <td>SalePrice</td>\n",
       "      <td>0</td>\n",
       "      <td>0.00</td>\n",
       "    </tr>\n",
       "  </tbody>\n",
       "</table>\n",
       "<p>81 rows × 3 columns</p>\n",
       "</div>"
      ],
      "text/plain": [
       "        feature  cnt_null  share_nans\n",
       "72       PoolQC      1453        1.00\n",
       "74  MiscFeature      1406        0.96\n",
       "6         Alley      1369        0.94\n",
       "73        Fence      1179        0.81\n",
       "57  FireplaceQu       690        0.47\n",
       "..          ...       ...         ...\n",
       "27    ExterQual         0        0.00\n",
       "24  Exterior2nd         0        0.00\n",
       "23  Exterior1st         0        0.00\n",
       "22     RoofMatl         0        0.00\n",
       "80    SalePrice         0        0.00\n",
       "\n",
       "[81 rows x 3 columns]"
      ]
     },
     "execution_count": 10,
     "metadata": {},
     "output_type": "execute_result"
    }
   ],
   "source": [
    "# Функция nans_df - датафрейм с пропущенными значениями\n",
    "\n",
    "nans.nans_df"
   ]
  },
  {
   "cell_type": "code",
   "execution_count": 11,
   "id": "245f6470",
   "metadata": {},
   "outputs": [],
   "source": [
    "# Разделение на обучение и тест\n",
    "\n",
    "X_train, X_val, y_train, y_val = train_test_split(\n",
    "    sample,\n",
    "    sample[target],\n",
    "    test_size=0.3,\n",
    "    random_state=42\n",
    ")"
   ]
  },
  {
   "cell_type": "markdown",
   "id": "11aec3df",
   "metadata": {},
   "source": [
    "# Использование класса PrimarySelection"
   ]
  },
  {
   "cell_type": "markdown",
   "id": "048bf9d6",
   "metadata": {},
   "source": [
    "### Класс PrimarySelection используется для анализа качества данных и отбора факторов.\n",
    "\n",
    "* В параметры передаются тренировочная выборка, пайплайн обработки факторов, количественные и категориальные списки факторов, название таргета, тип модели и тип задачи."
   ]
  },
  {
   "cell_type": "code",
   "execution_count": 12,
   "id": "5b7417a5",
   "metadata": {},
   "outputs": [
    {
     "name": "stdout",
     "output_type": "stream",
     "text": [
      "Класс первичного отбора факторов инициализирован!\n"
     ]
    }
   ],
   "source": [
    "# Инициализация класса первичного отбора факторов\n",
    "\n",
    "feature_selection = PrimarySelection(df_train=X_train,\n",
    "                                     base_pipe=base_pipe,\n",
    "                                     num_columns=num_columns,\n",
    "                                     cat_columns=cat_columns,\n",
    "                                     target=target,\n",
    "                                     model_type='catboost',\n",
    "                                     task_type='regression')"
   ]
  },
  {
   "cell_type": "markdown",
   "id": "f972a6f9",
   "metadata": {},
   "source": [
    "## 1. Корреляционный анализ"
   ]
  },
  {
   "cell_type": "markdown",
   "id": "3e4e5d3f",
   "metadata": {},
   "source": [
    "* method - метод расчета корреляций (spearman / pearson);\n",
    "* threshold - порог при котором фактор является коррелирующим;\n",
    "* drop_with_most_correlations:\n",
    "    * True - исключается фактор с наибольшим количеством коррелирующих с ним факторов с корреляцией выше порогового значения;\n",
    "    * False - исключается фактор с наименьшим Джини из списка коррелирующих факторов."
   ]
  },
  {
   "cell_type": "code",
   "execution_count": 13,
   "id": "9cc67256",
   "metadata": {},
   "outputs": [
    {
     "name": "stdout",
     "output_type": "stream",
     "text": [
      "Определены количественные и категориальные переменные!\n",
      "Количество факторов до: 10\n",
      "==================================================\n",
      "Количество факторов после корреляционного анализа: 10\n"
     ]
    }
   ],
   "source": [
    "# Корреляционный анализ \n",
    "\n",
    "feat_after_corr = feature_selection.corr_analysis(method='spearman',\n",
    "                                                  threshold=0.6, \n",
    "                                                  drop_with_most_correlations=True)"
   ]
  },
  {
   "cell_type": "code",
   "execution_count": 14,
   "id": "7f57deb7",
   "metadata": {},
   "outputs": [
    {
     "data": {
      "text/html": [
       "<div>\n",
       "<style scoped>\n",
       "    .dataframe tbody tr th:only-of-type {\n",
       "        vertical-align: middle;\n",
       "    }\n",
       "\n",
       "    .dataframe tbody tr th {\n",
       "        vertical-align: top;\n",
       "    }\n",
       "\n",
       "    .dataframe thead th {\n",
       "        text-align: right;\n",
       "    }\n",
       "</style>\n",
       "<table border=\"1\" class=\"dataframe\">\n",
       "  <thead>\n",
       "    <tr style=\"text-align: right;\">\n",
       "      <th></th>\n",
       "    </tr>\n",
       "  </thead>\n",
       "  <tbody>\n",
       "  </tbody>\n",
       "</table>\n",
       "</div>"
      ],
      "text/plain": [
       "Empty DataFrame\n",
       "Columns: []\n",
       "Index: []"
      ]
     },
     "execution_count": 14,
     "metadata": {},
     "output_type": "execute_result"
    }
   ],
   "source": [
    "# функция corr_df - датафрейм с коррелирующими факторами\n",
    "\n",
    "feature_selection.corr_df"
   ]
  },
  {
   "cell_type": "code",
   "execution_count": 15,
   "id": "16a0d3c0",
   "metadata": {},
   "outputs": [
    {
     "data": {
      "text/html": [
       "<div>\n",
       "<style scoped>\n",
       "    .dataframe tbody tr th:only-of-type {\n",
       "        vertical-align: middle;\n",
       "    }\n",
       "\n",
       "    .dataframe tbody tr th {\n",
       "        vertical-align: top;\n",
       "    }\n",
       "\n",
       "    .dataframe thead th {\n",
       "        text-align: right;\n",
       "    }\n",
       "</style>\n",
       "<table border=\"1\" class=\"dataframe\">\n",
       "  <thead>\n",
       "    <tr style=\"text-align: right;\">\n",
       "      <th></th>\n",
       "      <th>metric</th>\n",
       "    </tr>\n",
       "  </thead>\n",
       "  <tbody>\n",
       "    <tr>\n",
       "      <th>LotFrontage</th>\n",
       "      <td>3.088937e+37</td>\n",
       "    </tr>\n",
       "    <tr>\n",
       "      <th>FullBath</th>\n",
       "      <td>5.462000e+00</td>\n",
       "    </tr>\n",
       "    <tr>\n",
       "      <th>PoolArea</th>\n",
       "      <td>5.461800e+00</td>\n",
       "    </tr>\n",
       "    <tr>\n",
       "      <th>TotalBsmtSF</th>\n",
       "      <td>5.391700e+00</td>\n",
       "    </tr>\n",
       "    <tr>\n",
       "      <th>LotArea</th>\n",
       "      <td>4.778500e+00</td>\n",
       "    </tr>\n",
       "    <tr>\n",
       "      <th>SaleType</th>\n",
       "      <td>1.290000e-01</td>\n",
       "    </tr>\n",
       "    <tr>\n",
       "      <th>GarageQual</th>\n",
       "      <td>8.220000e-02</td>\n",
       "    </tr>\n",
       "    <tr>\n",
       "      <th>CentralAir</th>\n",
       "      <td>7.240000e-02</td>\n",
       "    </tr>\n",
       "    <tr>\n",
       "      <th>BldgType</th>\n",
       "      <td>4.020000e-02</td>\n",
       "    </tr>\n",
       "    <tr>\n",
       "      <th>Fence</th>\n",
       "      <td>3.170000e-02</td>\n",
       "    </tr>\n",
       "  </tbody>\n",
       "</table>\n",
       "</div>"
      ],
      "text/plain": [
       "                   metric\n",
       "LotFrontage  3.088937e+37\n",
       "FullBath     5.462000e+00\n",
       "PoolArea     5.461800e+00\n",
       "TotalBsmtSF  5.391700e+00\n",
       "LotArea      4.778500e+00\n",
       "SaleType     1.290000e-01\n",
       "GarageQual   8.220000e-02\n",
       "CentralAir   7.240000e-02\n",
       "BldgType     4.020000e-02\n",
       "Fence        3.170000e-02"
      ]
     },
     "execution_count": 15,
     "metadata": {},
     "output_type": "execute_result"
    }
   ],
   "source": [
    "# функция metric_res - датафрейм с метриками однофакторного анализа\n",
    "\n",
    "feature_selection.metric_res"
   ]
  },
  {
   "cell_type": "code",
   "execution_count": 16,
   "id": "d5d955d1",
   "metadata": {},
   "outputs": [
    {
     "data": {
      "text/plain": [
       "['CentralAir',\n",
       " 'SaleType',\n",
       " 'LotFrontage',\n",
       " 'PoolArea',\n",
       " 'TotalBsmtSF',\n",
       " 'GarageQual',\n",
       " 'LotArea',\n",
       " 'BldgType',\n",
       " 'Fence',\n",
       " 'FullBath']"
      ]
     },
     "execution_count": 16,
     "metadata": {},
     "output_type": "execute_result"
    }
   ],
   "source": [
    "# Функция feat_after_corr - список факторов после корреляционного анализа\n",
    "\n",
    "feature_selection.feat_after_corr"
   ]
  },
  {
   "cell_type": "markdown",
   "id": "c53561db",
   "metadata": {},
   "source": [
    "## 2. Отбор признаков с помощью углубления древовидных алгоритмов"
   ]
  },
  {
   "cell_type": "markdown",
   "id": "74c8b770",
   "metadata": {},
   "source": [
    "### Метод depth_analysis используется для отбора факторов относительно глубины алгоритма.\n",
    "\n",
    "* В параметры передаются список факторов и максимальная глубина до которой будут расчитываться важности признаков.\n",
    "\n",
    "\n",
    "* На выходе мы получаем таблицу из факторов отсортированных по важности, таблицу из факторов отрсортированных по рангу признака, список факторов из отсортированных по важности, список факторов из отсортированных по рангу.\n",
    "\n",
    "\n",
    "    * Аргоритм отбора относительно глубины: модель обучается на всех факторах в цикле с глубиной от 1 до максимально указанной. Далее выводятся важности по каждому признаку в каждой глубине. После чего значение усредняется по каждому признаку и сортируется по убыванию.\n",
    "    \n",
    "    * Алгоритм отбора относительно ранга в глубине: аналогично предыдущему, только при каждом значении глубины отбираются признаки со значением важности >0, по ним расставляются ранговые значения, и расчитывается среднее внутри каждой глубины. После чего ранги усредняются относительно глубин и сортируются по убыванию."
   ]
  },
  {
   "cell_type": "code",
   "execution_count": 17,
   "id": "42474929",
   "metadata": {},
   "outputs": [
    {
     "name": "stdout",
     "output_type": "stream",
     "text": [
      "Определены количественные и категориальные переменные!\n"
     ]
    },
    {
     "data": {
      "application/vnd.jupyter.widget-view+json": {
       "model_id": "8d4e0d236a2c4980ad174227aff903f7",
       "version_major": 2,
       "version_minor": 0
      },
      "text/plain": [
       "  0%|          | 0/3 [00:00<?, ?it/s]"
      ]
     },
     "metadata": {},
     "output_type": "display_data"
    },
    {
     "name": "stdout",
     "output_type": "stream",
     "text": [
      "Количество признаков до отбора: 10\n",
      "==================================================\n",
      "Количество признаков после mean importance относительно глубины: 10\n",
      "Количество признаков после mean rank относительно глубины: 10\n"
     ]
    }
   ],
   "source": [
    "# Анализ относительно глубины\n",
    "\n",
    "depth_features, rank_features = feature_selection.depth_analysis(features=feat_after_corr,\n",
    "                                                                 max_depth=3)"
   ]
  },
  {
   "cell_type": "code",
   "execution_count": 18,
   "id": "6b60421f",
   "metadata": {},
   "outputs": [
    {
     "data": {
      "text/html": [
       "<div>\n",
       "<style scoped>\n",
       "    .dataframe tbody tr th:only-of-type {\n",
       "        vertical-align: middle;\n",
       "    }\n",
       "\n",
       "    .dataframe tbody tr th {\n",
       "        vertical-align: top;\n",
       "    }\n",
       "\n",
       "    .dataframe thead th {\n",
       "        text-align: right;\n",
       "    }\n",
       "</style>\n",
       "<table border=\"1\" class=\"dataframe\">\n",
       "  <thead>\n",
       "    <tr style=\"text-align: right;\">\n",
       "      <th></th>\n",
       "      <th>importance_depth_1</th>\n",
       "      <th>importance_depth_2</th>\n",
       "      <th>importance_depth_3</th>\n",
       "      <th>mean_importance</th>\n",
       "      <th>mean_rank</th>\n",
       "    </tr>\n",
       "  </thead>\n",
       "  <tbody>\n",
       "    <tr>\n",
       "      <th>TotalBsmtSF</th>\n",
       "      <td>46.962522</td>\n",
       "      <td>41.747351</td>\n",
       "      <td>38.284152</td>\n",
       "      <td>42.331342</td>\n",
       "      <td>0.187879</td>\n",
       "    </tr>\n",
       "    <tr>\n",
       "      <th>FullBath</th>\n",
       "      <td>30.428177</td>\n",
       "      <td>29.067838</td>\n",
       "      <td>28.989073</td>\n",
       "      <td>29.495029</td>\n",
       "      <td>0.168350</td>\n",
       "    </tr>\n",
       "    <tr>\n",
       "      <th>LotArea</th>\n",
       "      <td>12.038321</td>\n",
       "      <td>11.696827</td>\n",
       "      <td>11.991002</td>\n",
       "      <td>11.908717</td>\n",
       "      <td>0.148822</td>\n",
       "    </tr>\n",
       "    <tr>\n",
       "      <th>SaleType</th>\n",
       "      <td>4.335840</td>\n",
       "      <td>5.412221</td>\n",
       "      <td>5.971520</td>\n",
       "      <td>5.239861</td>\n",
       "      <td>0.123232</td>\n",
       "    </tr>\n",
       "    <tr>\n",
       "      <th>BldgType</th>\n",
       "      <td>2.351358</td>\n",
       "      <td>5.262407</td>\n",
       "      <td>7.001603</td>\n",
       "      <td>4.871789</td>\n",
       "      <td>0.115825</td>\n",
       "    </tr>\n",
       "    <tr>\n",
       "      <th>CentralAir</th>\n",
       "      <td>1.787828</td>\n",
       "      <td>2.499541</td>\n",
       "      <td>3.011534</td>\n",
       "      <td>2.432968</td>\n",
       "      <td>0.090236</td>\n",
       "    </tr>\n",
       "    <tr>\n",
       "      <th>GarageQual</th>\n",
       "      <td>1.381201</td>\n",
       "      <td>2.224638</td>\n",
       "      <td>2.168957</td>\n",
       "      <td>1.924932</td>\n",
       "      <td>0.070707</td>\n",
       "    </tr>\n",
       "    <tr>\n",
       "      <th>LotFrontage</th>\n",
       "      <td>0.471369</td>\n",
       "      <td>1.362985</td>\n",
       "      <td>1.630495</td>\n",
       "      <td>1.154950</td>\n",
       "      <td>0.051178</td>\n",
       "    </tr>\n",
       "    <tr>\n",
       "      <th>PoolArea</th>\n",
       "      <td>0.243384</td>\n",
       "      <td>0.590338</td>\n",
       "      <td>0.656488</td>\n",
       "      <td>0.496737</td>\n",
       "      <td>0.031650</td>\n",
       "    </tr>\n",
       "    <tr>\n",
       "      <th>Fence</th>\n",
       "      <td>0.000000</td>\n",
       "      <td>0.135854</td>\n",
       "      <td>0.295175</td>\n",
       "      <td>0.143676</td>\n",
       "      <td>0.012121</td>\n",
       "    </tr>\n",
       "  </tbody>\n",
       "</table>\n",
       "</div>"
      ],
      "text/plain": [
       "             importance_depth_1  importance_depth_2  importance_depth_3  \\\n",
       "TotalBsmtSF           46.962522           41.747351           38.284152   \n",
       "FullBath              30.428177           29.067838           28.989073   \n",
       "LotArea               12.038321           11.696827           11.991002   \n",
       "SaleType               4.335840            5.412221            5.971520   \n",
       "BldgType               2.351358            5.262407            7.001603   \n",
       "CentralAir             1.787828            2.499541            3.011534   \n",
       "GarageQual             1.381201            2.224638            2.168957   \n",
       "LotFrontage            0.471369            1.362985            1.630495   \n",
       "PoolArea               0.243384            0.590338            0.656488   \n",
       "Fence                  0.000000            0.135854            0.295175   \n",
       "\n",
       "             mean_importance  mean_rank  \n",
       "TotalBsmtSF        42.331342   0.187879  \n",
       "FullBath           29.495029   0.168350  \n",
       "LotArea            11.908717   0.148822  \n",
       "SaleType            5.239861   0.123232  \n",
       "BldgType            4.871789   0.115825  \n",
       "CentralAir          2.432968   0.090236  \n",
       "GarageQual          1.924932   0.070707  \n",
       "LotFrontage         1.154950   0.051178  \n",
       "PoolArea            0.496737   0.031650  \n",
       "Fence               0.143676   0.012121  "
      ]
     },
     "execution_count": 18,
     "metadata": {},
     "output_type": "execute_result"
    }
   ],
   "source": [
    "# Табличное представление результатов анализа\n",
    "\n",
    "feature_selection.fi"
   ]
  },
  {
   "cell_type": "markdown",
   "id": "7fd69115",
   "metadata": {},
   "source": [
    "# 3. Проверка Permutation Importance на одной модели с разными алгоритмами sklearn, eli5, собственный код (kib)\n",
    "\n",
    "    * Код является примером. Не обязательно использовать все три способа. Необходимо отталкиваться от размера выборки и типа задачи (классификация, мультикласс, регрессия). Для задач классификации наиболее оптимальными являются eli5 / kib. Для задач регрессии kib / sklearn.\n",
    "    \n",
    "    * Для начала применяем конвеер трансформации категориальных и численных признаков, после чего обучаем алгоритм при наших ранее заданных параметрах."
   ]
  },
  {
   "cell_type": "code",
   "execution_count": 19,
   "id": "96d92da7",
   "metadata": {},
   "outputs": [],
   "source": [
    "strat = KFold(\n",
    "    n_splits=3,\n",
    "    shuffle=True,\n",
    "    random_state=42)"
   ]
  },
  {
   "cell_type": "markdown",
   "id": "a8eeb0fe",
   "metadata": {},
   "source": [
    "* На вход подаются список факторов после анализа относительно глубины / корреляционного анализа / анализа пропусков, стратегия деления, группа для стратификации (при необходимости), количество перемешиваний, тип перемешивания, число ядер, метрика и направление метрики (для типа перемешивания kib)"
   ]
  },
  {
   "cell_type": "markdown",
   "id": "35617ba0",
   "metadata": {},
   "source": [
    "### 3.1 От Sklearn"
   ]
  },
  {
   "cell_type": "code",
   "execution_count": 20,
   "id": "bcd0e964",
   "metadata": {},
   "outputs": [
    {
     "name": "stdout",
     "output_type": "stream",
     "text": [
      "Размер обучающего подмножества для Permutation importance: (681, 81) ; Среднее значение таргета: 184182.06607929515\n",
      "\n",
      "Размер тестового подмножества для Permutation importance: (341, 81) ; Среднее значение таргета: 175582.36070381233\n",
      "==================================================\n",
      "Определены количественные и категориальные переменные!\n"
     ]
    },
    {
     "data": {
      "text/html": [
       "<div>\n",
       "<style scoped>\n",
       "    .dataframe tbody tr th:only-of-type {\n",
       "        vertical-align: middle;\n",
       "    }\n",
       "\n",
       "    .dataframe tbody tr th {\n",
       "        vertical-align: top;\n",
       "    }\n",
       "\n",
       "    .dataframe thead th {\n",
       "        text-align: right;\n",
       "    }\n",
       "</style>\n",
       "<table border=\"1\" class=\"dataframe\">\n",
       "  <thead>\n",
       "    <tr style=\"text-align: right;\">\n",
       "      <th></th>\n",
       "      <th>Perm_Importance_Tr</th>\n",
       "      <th>Perm_Importance_Te</th>\n",
       "    </tr>\n",
       "    <tr>\n",
       "      <th>Feature</th>\n",
       "      <th></th>\n",
       "      <th></th>\n",
       "    </tr>\n",
       "  </thead>\n",
       "  <tbody>\n",
       "    <tr>\n",
       "      <th>TotalBsmtSF</th>\n",
       "      <td>0.382818</td>\n",
       "      <td>0.297428</td>\n",
       "    </tr>\n",
       "    <tr>\n",
       "      <th>FullBath</th>\n",
       "      <td>0.220880</td>\n",
       "      <td>0.219982</td>\n",
       "    </tr>\n",
       "    <tr>\n",
       "      <th>LotArea</th>\n",
       "      <td>0.110708</td>\n",
       "      <td>0.072186</td>\n",
       "    </tr>\n",
       "    <tr>\n",
       "      <th>BldgType</th>\n",
       "      <td>0.037175</td>\n",
       "      <td>0.057364</td>\n",
       "    </tr>\n",
       "    <tr>\n",
       "      <th>SaleType</th>\n",
       "      <td>0.053801</td>\n",
       "      <td>0.032377</td>\n",
       "    </tr>\n",
       "    <tr>\n",
       "      <th>CentralAir</th>\n",
       "      <td>0.025320</td>\n",
       "      <td>0.027554</td>\n",
       "    </tr>\n",
       "    <tr>\n",
       "      <th>GarageQual</th>\n",
       "      <td>0.018196</td>\n",
       "      <td>0.013390</td>\n",
       "    </tr>\n",
       "    <tr>\n",
       "      <th>random_feature</th>\n",
       "      <td>0.023962</td>\n",
       "      <td>0.010112</td>\n",
       "    </tr>\n",
       "    <tr>\n",
       "      <th>LotFrontage</th>\n",
       "      <td>0.031352</td>\n",
       "      <td>0.009265</td>\n",
       "    </tr>\n",
       "    <tr>\n",
       "      <th>Fence</th>\n",
       "      <td>0.012708</td>\n",
       "      <td>0.004715</td>\n",
       "    </tr>\n",
       "    <tr>\n",
       "      <th>PoolArea</th>\n",
       "      <td>0.014582</td>\n",
       "      <td>0.001079</td>\n",
       "    </tr>\n",
       "  </tbody>\n",
       "</table>\n",
       "</div>"
      ],
      "text/plain": [
       "                Perm_Importance_Tr  Perm_Importance_Te\n",
       "Feature                                               \n",
       "TotalBsmtSF               0.382818            0.297428\n",
       "FullBath                  0.220880            0.219982\n",
       "LotArea                   0.110708            0.072186\n",
       "BldgType                  0.037175            0.057364\n",
       "SaleType                  0.053801            0.032377\n",
       "CentralAir                0.025320            0.027554\n",
       "GarageQual                0.018196            0.013390\n",
       "random_feature            0.023962            0.010112\n",
       "LotFrontage               0.031352            0.009265\n",
       "Fence                     0.012708            0.004715\n",
       "PoolArea                  0.014582            0.001079"
      ]
     },
     "execution_count": 20,
     "metadata": {},
     "output_type": "execute_result"
    }
   ],
   "source": [
    "feature_selection.permutation_analysis(features=depth_features,\n",
    "                                       strat=strat,\n",
    "                                       n_iter=10,\n",
    "                                       permute_type='sklearn',\n",
    "                                       n_jobs=-1,\n",
    " #                                      metric=roc_auc_score,\n",
    " #                                      higher_is_better=True\n",
    "                                      )"
   ]
  },
  {
   "cell_type": "code",
   "execution_count": 21,
   "id": "d4816658",
   "metadata": {},
   "outputs": [
    {
     "data": {
      "image/png": "[encoded data removed]",
      "text/plain": [
       "<Figure size 864x432 with 1 Axes>"
      ]
     },
     "metadata": {
      "needs_background": "light"
     },
     "output_type": "display_data"
    }
   ],
   "source": [
    "# вызов функции permutation_plot отрисовывает топ важности по методу permutation importance\n",
    "\n",
    "feature_selection.permutation_plot(top=10, figsize=(12,6))"
   ]
  },
  {
   "cell_type": "markdown",
   "id": "99e9b162",
   "metadata": {},
   "source": [
    "#### Вызов функции select_features выдает список отобранных признаков. \n",
    "\n",
    "* Отбор происходит следующим образом:\n",
    "    * Если на тестовом множестве значение метрики относительно перемешанного факторо и рандомного признака ниже нуля, то отбираются все признаки выше нуля.\n",
    "    * Если рандомный признак имеет положительное значение на тестовом множестве, то отбираются все признаки выше значения при рандомном признаке."
   ]
  },
  {
   "cell_type": "code",
   "execution_count": 22,
   "id": "2b0a0452",
   "metadata": {},
   "outputs": [
    {
     "name": "stdout",
     "output_type": "stream",
     "text": [
      "11 признаков было до Permutation Importance \n",
      "\n",
      "7 признаков после Permutation Importance от sklearn\n"
     ]
    },
    {
     "data": {
      "text/plain": [
       "['TotalBsmtSF',\n",
       " 'FullBath',\n",
       " 'LotArea',\n",
       " 'BldgType',\n",
       " 'SaleType',\n",
       " 'CentralAir',\n",
       " 'GarageQual']"
      ]
     },
     "execution_count": 22,
     "metadata": {},
     "output_type": "execute_result"
    }
   ],
   "source": [
    "feature_selection.select_features()"
   ]
  },
  {
   "cell_type": "markdown",
   "id": "0358f6aa",
   "metadata": {},
   "source": [
    "### 3.2 От Eli5"
   ]
  },
  {
   "cell_type": "code",
   "execution_count": 23,
   "id": "44ebb5e9",
   "metadata": {},
   "outputs": [
    {
     "name": "stdout",
     "output_type": "stream",
     "text": [
      "Размер обучающего подмножества для Permutation importance: (681, 81) ; Среднее значение таргета: 184182.06607929515\n",
      "\n",
      "Размер тестового подмножества для Permutation importance: (341, 81) ; Среднее значение таргета: 175582.36070381233\n",
      "==================================================\n",
      "Определены количественные и категориальные переменные!\n"
     ]
    },
    {
     "data": {
      "text/html": [
       "<div>\n",
       "<style scoped>\n",
       "    .dataframe tbody tr th:only-of-type {\n",
       "        vertical-align: middle;\n",
       "    }\n",
       "\n",
       "    .dataframe tbody tr th {\n",
       "        vertical-align: top;\n",
       "    }\n",
       "\n",
       "    .dataframe thead th {\n",
       "        text-align: right;\n",
       "    }\n",
       "</style>\n",
       "<table border=\"1\" class=\"dataframe\">\n",
       "  <thead>\n",
       "    <tr style=\"text-align: right;\">\n",
       "      <th></th>\n",
       "      <th>Perm_Importance_Tr</th>\n",
       "      <th>Perm_Importance_Te</th>\n",
       "    </tr>\n",
       "    <tr>\n",
       "      <th>Feature</th>\n",
       "      <th></th>\n",
       "      <th></th>\n",
       "    </tr>\n",
       "  </thead>\n",
       "  <tbody>\n",
       "    <tr>\n",
       "      <th>TotalBsmtSF</th>\n",
       "      <td>0.389132</td>\n",
       "      <td>0.302789</td>\n",
       "    </tr>\n",
       "    <tr>\n",
       "      <th>FullBath</th>\n",
       "      <td>0.220056</td>\n",
       "      <td>0.217512</td>\n",
       "    </tr>\n",
       "    <tr>\n",
       "      <th>LotArea</th>\n",
       "      <td>0.103530</td>\n",
       "      <td>0.079416</td>\n",
       "    </tr>\n",
       "    <tr>\n",
       "      <th>BldgType</th>\n",
       "      <td>0.034628</td>\n",
       "      <td>0.064359</td>\n",
       "    </tr>\n",
       "    <tr>\n",
       "      <th>CentralAir</th>\n",
       "      <td>0.024871</td>\n",
       "      <td>0.028731</td>\n",
       "    </tr>\n",
       "    <tr>\n",
       "      <th>SaleType</th>\n",
       "      <td>0.053720</td>\n",
       "      <td>0.024595</td>\n",
       "    </tr>\n",
       "    <tr>\n",
       "      <th>GarageQual</th>\n",
       "      <td>0.020494</td>\n",
       "      <td>0.014980</td>\n",
       "    </tr>\n",
       "    <tr>\n",
       "      <th>random_feature</th>\n",
       "      <td>0.022457</td>\n",
       "      <td>0.010670</td>\n",
       "    </tr>\n",
       "    <tr>\n",
       "      <th>LotFrontage</th>\n",
       "      <td>0.029488</td>\n",
       "      <td>0.008850</td>\n",
       "    </tr>\n",
       "    <tr>\n",
       "      <th>Fence</th>\n",
       "      <td>0.013635</td>\n",
       "      <td>0.003128</td>\n",
       "    </tr>\n",
       "    <tr>\n",
       "      <th>PoolArea</th>\n",
       "      <td>0.014565</td>\n",
       "      <td>0.001136</td>\n",
       "    </tr>\n",
       "  </tbody>\n",
       "</table>\n",
       "</div>"
      ],
      "text/plain": [
       "                Perm_Importance_Tr  Perm_Importance_Te\n",
       "Feature                                               \n",
       "TotalBsmtSF               0.389132            0.302789\n",
       "FullBath                  0.220056            0.217512\n",
       "LotArea                   0.103530            0.079416\n",
       "BldgType                  0.034628            0.064359\n",
       "CentralAir                0.024871            0.028731\n",
       "SaleType                  0.053720            0.024595\n",
       "GarageQual                0.020494            0.014980\n",
       "random_feature            0.022457            0.010670\n",
       "LotFrontage               0.029488            0.008850\n",
       "Fence                     0.013635            0.003128\n",
       "PoolArea                  0.014565            0.001136"
      ]
     },
     "execution_count": 23,
     "metadata": {},
     "output_type": "execute_result"
    }
   ],
   "source": [
    "feature_selection.permutation_analysis(features=depth_features,\n",
    "                                       strat=strat,\n",
    "                                       n_iter=10,\n",
    "                                       permute_type='eli5',\n",
    " #                                      n_jobs=-1,\n",
    " #                                      metric=roc_auc_score,\n",
    " #                                      higher_is_better=True\n",
    "                                      )"
   ]
  },
  {
   "cell_type": "code",
   "execution_count": 24,
   "id": "ea4de564",
   "metadata": {},
   "outputs": [
    {
     "data": {
      "image/png": "[encoded data removed]",
      "text/plain": [
       "<Figure size 1152x864 with 1 Axes>"
      ]
     },
     "metadata": {
      "needs_background": "light"
     },
     "output_type": "display_data"
    }
   ],
   "source": [
    "feature_selection.permutation_plot(figsize=(16,12), top=10)"
   ]
  },
  {
   "cell_type": "code",
   "execution_count": 25,
   "id": "bb43303a",
   "metadata": {},
   "outputs": [
    {
     "name": "stdout",
     "output_type": "stream",
     "text": [
      "11 признаков было до Permutation Importance \n",
      "\n",
      "7 признаков после Permutation Importance от eli5\n"
     ]
    },
    {
     "data": {
      "text/plain": [
       "['TotalBsmtSF',\n",
       " 'FullBath',\n",
       " 'LotArea',\n",
       " 'BldgType',\n",
       " 'CentralAir',\n",
       " 'SaleType',\n",
       " 'GarageQual']"
      ]
     },
     "execution_count": 25,
     "metadata": {},
     "output_type": "execute_result"
    }
   ],
   "source": [
    "feature_selection.select_features()"
   ]
  },
  {
   "cell_type": "markdown",
   "id": "31d94671",
   "metadata": {},
   "source": [
    "### 3.3 Самописный permutation kib"
   ]
  },
  {
   "cell_type": "code",
   "execution_count": 26,
   "id": "e7020e16",
   "metadata": {},
   "outputs": [
    {
     "name": "stdout",
     "output_type": "stream",
     "text": [
      "Размер обучающего подмножества для Permutation importance: (681, 81) ; Среднее значение таргета: 184182.06607929515\n",
      "\n",
      "Размер тестового подмножества для Permutation importance: (341, 81) ; Среднее значение таргета: 175582.36070381233\n",
      "==================================================\n",
      "Определены количественные и категориальные переменные!\n",
      "Расчет Permutation Importance на Train\n"
     ]
    },
    {
     "name": "stderr",
     "output_type": "stream",
     "text": [
      "100%|███████████████████████████████████████████| 11/11 [00:00<00:00, 15.99it/s]\n"
     ]
    },
    {
     "name": "stdout",
     "output_type": "stream",
     "text": [
      "Расчет Permutation Importance на Test\n"
     ]
    },
    {
     "name": "stderr",
     "output_type": "stream",
     "text": [
      "100%|████████████████████████████████████████| 11/11 [00:00<00:00, 10243.64it/s]\n"
     ]
    },
    {
     "data": {
      "text/html": [
       "<div>\n",
       "<style scoped>\n",
       "    .dataframe tbody tr th:only-of-type {\n",
       "        vertical-align: middle;\n",
       "    }\n",
       "\n",
       "    .dataframe tbody tr th {\n",
       "        vertical-align: top;\n",
       "    }\n",
       "\n",
       "    .dataframe thead th {\n",
       "        text-align: right;\n",
       "    }\n",
       "</style>\n",
       "<table border=\"1\" class=\"dataframe\">\n",
       "  <thead>\n",
       "    <tr style=\"text-align: right;\">\n",
       "      <th></th>\n",
       "      <th>Perm_Importance_Tr</th>\n",
       "      <th>Perm_Importance_Te</th>\n",
       "    </tr>\n",
       "    <tr>\n",
       "      <th>Feature</th>\n",
       "      <th></th>\n",
       "      <th></th>\n",
       "    </tr>\n",
       "  </thead>\n",
       "  <tbody>\n",
       "    <tr>\n",
       "      <th>FullBath</th>\n",
       "      <td>0.407499</td>\n",
       "      <td>0.434115</td>\n",
       "    </tr>\n",
       "    <tr>\n",
       "      <th>TotalBsmtSF</th>\n",
       "      <td>0.412789</td>\n",
       "      <td>0.428945</td>\n",
       "    </tr>\n",
       "    <tr>\n",
       "      <th>LotArea</th>\n",
       "      <td>0.358436</td>\n",
       "      <td>0.383164</td>\n",
       "    </tr>\n",
       "    <tr>\n",
       "      <th>CentralAir</th>\n",
       "      <td>0.340170</td>\n",
       "      <td>0.373466</td>\n",
       "    </tr>\n",
       "    <tr>\n",
       "      <th>BldgType</th>\n",
       "      <td>0.336576</td>\n",
       "      <td>0.372400</td>\n",
       "    </tr>\n",
       "    <tr>\n",
       "      <th>GarageQual</th>\n",
       "      <td>0.337031</td>\n",
       "      <td>0.369829</td>\n",
       "    </tr>\n",
       "    <tr>\n",
       "      <th>SaleType</th>\n",
       "      <td>0.339115</td>\n",
       "      <td>0.369524</td>\n",
       "    </tr>\n",
       "    <tr>\n",
       "      <th>Fence</th>\n",
       "      <td>0.329954</td>\n",
       "      <td>0.362818</td>\n",
       "    </tr>\n",
       "    <tr>\n",
       "      <th>PoolArea</th>\n",
       "      <td>0.326832</td>\n",
       "      <td>0.361019</td>\n",
       "    </tr>\n",
       "    <tr>\n",
       "      <th>LotFrontage</th>\n",
       "      <td>0.331688</td>\n",
       "      <td>0.360935</td>\n",
       "    </tr>\n",
       "    <tr>\n",
       "      <th>random_feature</th>\n",
       "      <td>0.329930</td>\n",
       "      <td>0.360899</td>\n",
       "    </tr>\n",
       "  </tbody>\n",
       "</table>\n",
       "</div>"
      ],
      "text/plain": [
       "                Perm_Importance_Tr  Perm_Importance_Te\n",
       "Feature                                               \n",
       "FullBath                  0.407499            0.434115\n",
       "TotalBsmtSF               0.412789            0.428945\n",
       "LotArea                   0.358436            0.383164\n",
       "CentralAir                0.340170            0.373466\n",
       "BldgType                  0.336576            0.372400\n",
       "GarageQual                0.337031            0.369829\n",
       "SaleType                  0.339115            0.369524\n",
       "Fence                     0.329954            0.362818\n",
       "PoolArea                  0.326832            0.361019\n",
       "LotFrontage               0.331688            0.360935\n",
       "random_feature            0.329930            0.360899"
      ]
     },
     "execution_count": 26,
     "metadata": {},
     "output_type": "execute_result"
    }
   ],
   "source": [
    "feature_selection.permutation_analysis(features=depth_features,\n",
    "                                       strat=strat,\n",
    "                                       n_iter=10,\n",
    "                                       permute_type='kib',\n",
    "                                       n_jobs=-1,\n",
    "                                       metric=mean_absolute_percentage_error,\n",
    "                                       higher_is_better=False)"
   ]
  },
  {
   "cell_type": "code",
   "execution_count": 27,
   "id": "1fdbd83c",
   "metadata": {
    "scrolled": true
   },
   "outputs": [
    {
     "data": {
      "image/png": "[encoded data removed]",
      "text/plain": [
       "<Figure size 864x360 with 1 Axes>"
      ]
     },
     "metadata": {
      "needs_background": "light"
     },
     "output_type": "display_data"
    }
   ],
   "source": [
    "feature_selection.permutation_plot(top=10, figsize=(12,5))"
   ]
  },
  {
   "cell_type": "code",
   "execution_count": 28,
   "id": "10be238b",
   "metadata": {
    "scrolled": true
   },
   "outputs": [
    {
     "name": "stdout",
     "output_type": "stream",
     "text": [
      "11 признаков было до Permutation Importance \n",
      "\n",
      "10 признаков после Permutation Importance от kib\n"
     ]
    },
    {
     "data": {
      "text/plain": [
       "['FullBath',\n",
       " 'TotalBsmtSF',\n",
       " 'LotArea',\n",
       " 'CentralAir',\n",
       " 'BldgType',\n",
       " 'GarageQual',\n",
       " 'SaleType',\n",
       " 'Fence',\n",
       " 'PoolArea',\n",
       " 'LotFrontage']"
      ]
     },
     "execution_count": 28,
     "metadata": {},
     "output_type": "execute_result"
    }
   ],
   "source": [
    "feature_selection.select_features()"
   ]
  },
  {
   "cell_type": "code",
   "execution_count": null,
   "id": "890dcc47",
   "metadata": {},
   "outputs": [],
   "source": []
  },
  {
   "cell_type": "code",
   "execution_count": null,
   "id": "f47d48a6",
   "metadata": {},
   "outputs": [],
   "source": []
  },
  {
   "cell_type": "raw",
   "id": "09cdd20e",
   "metadata": {},
   "source": []
  },
  {
   "cell_type": "raw",
   "id": "35c2adaf",
   "metadata": {},
   "source": []
  }
 ],
 "metadata": {
  "kernelspec": {
   "display_name": "Python 3 (ipykernel)",
   "language": "python",
   "name": "python3"
  },
  "language_info": {
   "codemirror_mode": {
    "name": "ipython",
    "version": 3
   },
   "file_extension": ".py",
   "mimetype": "text/x-python",
   "name": "python",
   "nbconvert_exporter": "python",
   "pygments_lexer": "ipython3",
   "version": "3.9.7"
  }
 },
 "nbformat": 4,
 "nbformat_minor": 5
}
