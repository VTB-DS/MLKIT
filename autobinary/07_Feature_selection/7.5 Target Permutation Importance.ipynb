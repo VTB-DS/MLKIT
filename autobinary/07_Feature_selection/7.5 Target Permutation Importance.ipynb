{
 "cells": [
  {
   "cell_type": "markdown",
   "id": "eb77be52",
   "metadata": {
    "pycharm": {
     "name": "#%% md\n"
    }
   },
   "source": [
    "# Демонстрация отбора признаков с помощью метода Target Permutation"
   ]
  },
  {
   "cell_type": "markdown",
   "id": "04d42466",
   "metadata": {
    "pycharm": {
     "name": "#%% md\n"
    }
   },
   "source": [
    "## Структура ноутбука:\n",
    "- Демонстрация методов и атрибутов библиотеки Target Permutation для задач классификации\n",
    "- Применение библиотеки Target Permutation для задач классификации\n",
    "    * Проверка Target Permutation на искусственных данных\n",
    "    * Проверка Target Permutation на данных (Титаник)\n",
    "    \n",
    "    \n",
    "- Применение библиотеки Target Permutation для задач регрессии\n",
    "    * Проверка Target Permutation на искусственных данных\n",
    "    * Проверка Target Permutation на данных (Стоимость жилья)    "
   ]
  },
  {
   "cell_type": "markdown",
   "id": "d5356480",
   "metadata": {
    "pycharm": {
     "name": "#%% md\n"
    }
   },
   "source": [
    "##  Подгрузим необходимые бибиотеки"
   ]
  },
  {
   "cell_type": "code",
   "execution_count": 1,
   "id": "0de07b3a",
   "metadata": {
    "pycharm": {
     "name": "#%%\n"
    }
   },
   "outputs": [
    {
     "data": {
      "text/html": [
       "<style>.container {width:95% !important;}</style>"
      ],
      "text/plain": [
       "<IPython.core.display.HTML object>"
      ]
     },
     "metadata": {},
     "output_type": "display_data"
    }
   ],
   "source": [
    "# расширяем поле, убираем предупреждения\n",
    "from IPython.core.display import display, HTML\n",
    "display(HTML('<style>.container {width:95% !important;}</style>'))\n",
    "\n",
    "import warnings\n",
    "warnings.filterwarnings('ignore')"
   ]
  },
  {
   "cell_type": "code",
   "execution_count": 2,
   "id": "b794136e",
   "metadata": {
    "pycharm": {
     "name": "#%%\n"
    }
   },
   "outputs": [],
   "source": [
    "# Стандартные библиотеки для анализа\n",
    "import pandas as pd\n",
    "\n",
    "from sklearn.model_selection import train_test_split, StratifiedKFold, KFold\n",
    "from sklearn.metrics import roc_auc_score, mean_absolute_percentage_error\n",
    "\n",
    "import matplotlib.pylab as pl"
   ]
  },
  {
   "cell_type": "code",
   "execution_count": 3,
   "id": "bbdc8c1e",
   "metadata": {
    "pycharm": {
     "name": "#%%\n"
    }
   },
   "outputs": [],
   "source": [
    "import sys\n",
    "sys.path.append('../')\n",
    "\n",
    "# Наша разработанная библиотека\n",
    "from autobinary import TargetPermutationSelection, base_pipe #, utils_target_permutation\n",
    "# подгрузим вспомогательные функции\n",
    "from autobinary import utils_target_permutation\n",
    "# from utils_target_permutation import select_estimator, geom_reg_list, aggregated_feature_selection, intersection_set"
   ]
  },
  {
   "cell_type": "code",
   "execution_count": 4,
   "id": "69f2a990",
   "metadata": {
    "pycharm": {
     "name": "#%%\n"
    }
   },
   "outputs": [
    {
     "name": "stdout",
     "output_type": "stream",
     "text": [
      "sklearn:  1.1.3\n",
      "xgboost:  1.5.2\n",
      "matplotlib:  3.7.0\n",
      "autobinary:  1.0.9\n"
     ]
    }
   ],
   "source": [
    "import sklearn as sk\n",
    "import xgboost as xgb\n",
    "import matplotlib as mplot\n",
    "import autobinary as ab\n",
    "\n",
    "print('sklearn: ', sk.__version__)\n",
    "print('xgboost: ', xgb.__version__)\n",
    "print('matplotlib: ', mplot.__version__)\n",
    "print('autobinary: ', ab.__version__)"
   ]
  },
  {
   "cell_type": "markdown",
   "id": "0ba9b779",
   "metadata": {
    "pycharm": {
     "name": "#%% md\n"
    }
   },
   "source": [
    "## Генерация искусственных данных"
   ]
  },
  {
   "cell_type": "code",
   "execution_count": 5,
   "id": "f08c6fd5",
   "metadata": {
    "jupyter": {
     "outputs_hidden": false
    },
    "pycharm": {
     "name": "#%%\n"
    }
   },
   "outputs": [],
   "source": [
    "from sklearn.datasets import make_classification\n",
    "\n",
    "X,y = make_classification(\n",
    "    n_samples=10000,\n",
    "    n_features=10,\n",
    "    n_informative=5,\n",
    "    n_classes=2,\n",
    "    n_clusters_per_class=2,\n",
    "    class_sep=2,\n",
    "    weights=[0.5, 0.5],\n",
    "    random_state=2022)\n",
    "\n",
    "columns = ['A','B','C','D','E','F','G','H','I','J']\n",
    "sample = pd.DataFrame(X, columns=columns)\n",
    "sample['target'] = y\n",
    "target = 'target'\n",
    "\n",
    "X_train, X_valid, y_train, y_valid = train_test_split(\n",
    "    sample.drop(columns=target), \n",
    "    sample[target], \n",
    "    test_size=0.3, \n",
    "    random_state=2022)"
   ]
  },
  {
   "cell_type": "code",
   "execution_count": 6,
   "id": "e035b768",
   "metadata": {
    "jupyter": {
     "outputs_hidden": false
    },
    "pycharm": {
     "name": "#%%\n"
    }
   },
   "outputs": [
    {
     "name": "stdout",
     "output_type": "stream",
     "text": [
      "Определены только количественные переменные!\n"
     ]
    }
   ],
   "source": [
    "num_columns = columns\n",
    "cat_columns = []\n",
    "target = ['target']\n",
    "\n",
    "#pipeline\n",
    "prep_pipe = base_pipe(\n",
    "    num_columns=num_columns,\n",
    "    cat_columns=cat_columns)"
   ]
  },
  {
   "cell_type": "markdown",
   "id": "3fe19a0f",
   "metadata": {},
   "source": [
    "## Демострация методов и атрибутов Target Permutation"
   ]
  },
  {
   "cell_type": "markdown",
   "id": "02309a59",
   "metadata": {},
   "source": [
    "Описание: Класс **TargetPermutationSelection** предназначен для отбора признаков с помощью перемешивания таргета и оценки предсказательной способности фичей.\n",
    "\n",
    "Последовательность действий алгоритма:\n",
    "- `1)` Происходит обучение модели с оригинальным тарегетом (benchmark-модель);\n",
    "- `2)` Происходит расчет метрики benchmark-модели;\n",
    "- `3)` Происходит перемешивание таргета;\n",
    "- `4)` Происходит обучение модели с перемешаным таргетом (target permutation-модель);\n",
    "- `5)` Происходит расчет метрики target permutation-модели;\n",
    "- `6)` Расчет разности метрик 2) и 5)\n",
    "- `7)` Происходит отбор признаков"
   ]
  },
  {
   "cell_type": "code",
   "execution_count": 7,
   "id": "ef7bd927",
   "metadata": {},
   "outputs": [],
   "source": [
    "from xgboost import XGBClassifier\n",
    "\n",
    "params_xgb = {\n",
    "    'eta':0.01,\n",
    "    'n_estimators':800,\n",
    "    'subsample':0.9,\n",
    "    'colsample_bytree':0.6,\n",
    "    'max_depth':6,\n",
    "    'objective':'binary:logistic',\n",
    "    'use_label_encoder':False,\n",
    "    'n_jobs':-1,\n",
    "    'random_state':42}\n",
    "\n",
    "fit_params_xgb = {\n",
    "    'early_stopping_rounds':100, \n",
    "    'eval_metric':['logloss', 'aucpr', 'auc'],\n",
    "    'verbose':0}\n",
    "\n",
    "estimator = XGBClassifier(**params_xgb)"
   ]
  },
  {
   "cell_type": "code",
   "execution_count": 8,
   "id": "e2db261b",
   "metadata": {},
   "outputs": [
    {
     "name": "stdout",
     "output_type": "stream",
     "text": [
      "============================== 1. Обучение benchmark-модели! ==============================\n",
      "BEST ITERATION:  61\n",
      "gini на обучающей выборке: 99.433\n",
      "gini на проверочной выборке: 99.001\n",
      "============================== 2. Обучение target permutation-модели! ==============================\n",
      "BEST ITERATION:  56\n",
      "gini на обучающей выборке: 53.888\n",
      "gini на проверочной выборке: 1.161\n"
     ]
    },
    {
     "data": {
      "text/html": [
       "<div>\n",
       "<style scoped>\n",
       "    .dataframe tbody tr th:only-of-type {\n",
       "        vertical-align: middle;\n",
       "    }\n",
       "\n",
       "    .dataframe tbody tr th {\n",
       "        vertical-align: top;\n",
       "    }\n",
       "\n",
       "    .dataframe thead th {\n",
       "        text-align: right;\n",
       "    }\n",
       "</style>\n",
       "<table border=\"1\" class=\"dataframe\">\n",
       "  <thead>\n",
       "    <tr style=\"text-align: right;\">\n",
       "      <th></th>\n",
       "      <th>index</th>\n",
       "      <th>importance_benchmark</th>\n",
       "      <th>importance_permut</th>\n",
       "      <th>final_importance</th>\n",
       "    </tr>\n",
       "  </thead>\n",
       "  <tbody>\n",
       "    <tr>\n",
       "      <th>0</th>\n",
       "      <td>F</td>\n",
       "      <td>230.534286</td>\n",
       "      <td>4.124747</td>\n",
       "      <td>226.409539</td>\n",
       "    </tr>\n",
       "    <tr>\n",
       "      <th>1</th>\n",
       "      <td>A</td>\n",
       "      <td>65.284569</td>\n",
       "      <td>4.149655</td>\n",
       "      <td>61.134913</td>\n",
       "    </tr>\n",
       "    <tr>\n",
       "      <th>2</th>\n",
       "      <td>J</td>\n",
       "      <td>63.469402</td>\n",
       "      <td>4.574215</td>\n",
       "      <td>58.895187</td>\n",
       "    </tr>\n",
       "    <tr>\n",
       "      <th>3</th>\n",
       "      <td>C</td>\n",
       "      <td>32.615238</td>\n",
       "      <td>4.260645</td>\n",
       "      <td>28.354593</td>\n",
       "    </tr>\n",
       "    <tr>\n",
       "      <th>4</th>\n",
       "      <td>G</td>\n",
       "      <td>29.989086</td>\n",
       "      <td>4.402431</td>\n",
       "      <td>25.586655</td>\n",
       "    </tr>\n",
       "    <tr>\n",
       "      <th>5</th>\n",
       "      <td>B</td>\n",
       "      <td>20.135345</td>\n",
       "      <td>4.357924</td>\n",
       "      <td>15.777422</td>\n",
       "    </tr>\n",
       "    <tr>\n",
       "      <th>6</th>\n",
       "      <td>D</td>\n",
       "      <td>8.951872</td>\n",
       "      <td>4.125734</td>\n",
       "      <td>4.826138</td>\n",
       "    </tr>\n",
       "    <tr>\n",
       "      <th>8</th>\n",
       "      <td>E</td>\n",
       "      <td>1.624735</td>\n",
       "      <td>4.506929</td>\n",
       "      <td>-2.882194</td>\n",
       "    </tr>\n",
       "    <tr>\n",
       "      <th>7</th>\n",
       "      <td>H</td>\n",
       "      <td>1.691387</td>\n",
       "      <td>4.580022</td>\n",
       "      <td>-2.888635</td>\n",
       "    </tr>\n",
       "    <tr>\n",
       "      <th>10</th>\n",
       "      <td>I</td>\n",
       "      <td>1.200047</td>\n",
       "      <td>4.200210</td>\n",
       "      <td>-3.000163</td>\n",
       "    </tr>\n",
       "    <tr>\n",
       "      <th>9</th>\n",
       "      <td>random_feature</td>\n",
       "      <td>1.452201</td>\n",
       "      <td>4.581307</td>\n",
       "      <td>-3.129106</td>\n",
       "    </tr>\n",
       "  </tbody>\n",
       "</table>\n",
       "</div>"
      ],
      "text/plain": [
       "             index  importance_benchmark  importance_permut  final_importance\n",
       "0                F            230.534286           4.124747        226.409539\n",
       "1                A             65.284569           4.149655         61.134913\n",
       "2                J             63.469402           4.574215         58.895187\n",
       "3                C             32.615238           4.260645         28.354593\n",
       "4                G             29.989086           4.402431         25.586655\n",
       "5                B             20.135345           4.357924         15.777422\n",
       "6                D              8.951872           4.125734          4.826138\n",
       "8                E              1.624735           4.506929         -2.882194\n",
       "7                H              1.691387           4.580022         -2.888635\n",
       "10               I              1.200047           4.200210         -3.000163\n",
       "9   random_feature              1.452201           4.581307         -3.129106"
      ]
     },
     "execution_count": 8,
     "metadata": {},
     "output_type": "execute_result"
    }
   ],
   "source": [
    "# инициализация метода\n",
    "model = TargetPermutationSelection(\n",
    "    main_estimator=estimator, \n",
    "    main_fit_params=fit_params_xgb,\n",
    "    main_prep_pipe=prep_pipe,\n",
    "    main_features=num_columns + cat_columns,\n",
    "\n",
    "    X_train=sample[num_columns + cat_columns],\n",
    "    y_train=sample[target], \n",
    "    main_metric='gini',\n",
    "    model_type='xgboost')\n",
    "\n",
    "# метод для вычисления важностей фичей\n",
    "model.calculate_permutation(test_size=0.3)"
   ]
  },
  {
   "cell_type": "code",
   "execution_count": 9,
   "id": "db43186f",
   "metadata": {},
   "outputs": [
    {
     "name": "stdout",
     "output_type": "stream",
     "text": [
      "10 признаков было до Target Permutation\n",
      "10 признаков после Target Permutation\n"
     ]
    },
    {
     "data": {
      "text/plain": [
       "['F', 'A', 'J', 'C', 'G', 'B', 'D', 'E', 'H', 'I']"
      ]
     },
     "execution_count": 9,
     "metadata": {},
     "output_type": "execute_result"
    }
   ],
   "source": [
    "# отбор фичей с помощью пересечения множеств\n",
    "model.select_features(select_type='random_feature', cut_off=0.0) # для отбора фичей, которые результативнее рандомной фичи\n",
    "# model.select_features(select_type='any', cut_off=0.0) # для отбора фичей, важность которых больше cut_off"
   ]
  },
  {
   "cell_type": "code",
   "execution_count": 10,
   "id": "3e43cd20",
   "metadata": {},
   "outputs": [
    {
     "data": {
      "text/plain": [
       "['F', 'A', 'J', 'C', 'G', 'B', 'D', 'E', 'H', 'I']"
      ]
     },
     "execution_count": 10,
     "metadata": {},
     "output_type": "execute_result"
    }
   ],
   "source": [
    "# атрибуты\n",
    "model.selected_features # отобранные фичи"
   ]
  },
  {
   "cell_type": "code",
   "execution_count": 11,
   "id": "8a56fbb0",
   "metadata": {},
   "outputs": [
    {
     "data": {
      "text/html": [
       "<div>\n",
       "<style scoped>\n",
       "    .dataframe tbody tr th:only-of-type {\n",
       "        vertical-align: middle;\n",
       "    }\n",
       "\n",
       "    .dataframe tbody tr th {\n",
       "        vertical-align: top;\n",
       "    }\n",
       "\n",
       "    .dataframe thead th {\n",
       "        text-align: right;\n",
       "    }\n",
       "</style>\n",
       "<table border=\"1\" class=\"dataframe\">\n",
       "  <thead>\n",
       "    <tr style=\"text-align: right;\">\n",
       "      <th></th>\n",
       "      <th>index</th>\n",
       "      <th>importance_benchmark</th>\n",
       "    </tr>\n",
       "  </thead>\n",
       "  <tbody>\n",
       "    <tr>\n",
       "      <th>0</th>\n",
       "      <td>F</td>\n",
       "      <td>230.534286</td>\n",
       "    </tr>\n",
       "    <tr>\n",
       "      <th>1</th>\n",
       "      <td>A</td>\n",
       "      <td>65.284569</td>\n",
       "    </tr>\n",
       "    <tr>\n",
       "      <th>2</th>\n",
       "      <td>J</td>\n",
       "      <td>63.469402</td>\n",
       "    </tr>\n",
       "    <tr>\n",
       "      <th>3</th>\n",
       "      <td>C</td>\n",
       "      <td>32.615238</td>\n",
       "    </tr>\n",
       "    <tr>\n",
       "      <th>4</th>\n",
       "      <td>G</td>\n",
       "      <td>29.989086</td>\n",
       "    </tr>\n",
       "    <tr>\n",
       "      <th>5</th>\n",
       "      <td>B</td>\n",
       "      <td>20.135345</td>\n",
       "    </tr>\n",
       "    <tr>\n",
       "      <th>6</th>\n",
       "      <td>D</td>\n",
       "      <td>8.951872</td>\n",
       "    </tr>\n",
       "    <tr>\n",
       "      <th>7</th>\n",
       "      <td>H</td>\n",
       "      <td>1.691387</td>\n",
       "    </tr>\n",
       "    <tr>\n",
       "      <th>8</th>\n",
       "      <td>E</td>\n",
       "      <td>1.624735</td>\n",
       "    </tr>\n",
       "    <tr>\n",
       "      <th>9</th>\n",
       "      <td>random_feature</td>\n",
       "      <td>1.452201</td>\n",
       "    </tr>\n",
       "    <tr>\n",
       "      <th>10</th>\n",
       "      <td>I</td>\n",
       "      <td>1.200047</td>\n",
       "    </tr>\n",
       "  </tbody>\n",
       "</table>\n",
       "</div>"
      ],
      "text/plain": [
       "             index  importance_benchmark\n",
       "0                F            230.534286\n",
       "1                A             65.284569\n",
       "2                J             63.469402\n",
       "3                C             32.615238\n",
       "4                G             29.989086\n",
       "5                B             20.135345\n",
       "6                D              8.951872\n",
       "7                H              1.691387\n",
       "8                E              1.624735\n",
       "9   random_feature              1.452201\n",
       "10               I              1.200047"
      ]
     },
     "execution_count": 11,
     "metadata": {},
     "output_type": "execute_result"
    }
   ],
   "source": [
    "model.df_benchmark_fi # датафрейм с важностями для benchmark-модели"
   ]
  },
  {
   "cell_type": "code",
   "execution_count": 12,
   "id": "199e59ef",
   "metadata": {},
   "outputs": [
    {
     "data": {
      "text/html": [
       "<div>\n",
       "<style scoped>\n",
       "    .dataframe tbody tr th:only-of-type {\n",
       "        vertical-align: middle;\n",
       "    }\n",
       "\n",
       "    .dataframe tbody tr th {\n",
       "        vertical-align: top;\n",
       "    }\n",
       "\n",
       "    .dataframe thead th {\n",
       "        text-align: right;\n",
       "    }\n",
       "</style>\n",
       "<table border=\"1\" class=\"dataframe\">\n",
       "  <thead>\n",
       "    <tr style=\"text-align: right;\">\n",
       "      <th></th>\n",
       "      <th>index</th>\n",
       "      <th>importance_permut</th>\n",
       "    </tr>\n",
       "  </thead>\n",
       "  <tbody>\n",
       "    <tr>\n",
       "      <th>0</th>\n",
       "      <td>random_feature</td>\n",
       "      <td>4.581307</td>\n",
       "    </tr>\n",
       "    <tr>\n",
       "      <th>1</th>\n",
       "      <td>H</td>\n",
       "      <td>4.580022</td>\n",
       "    </tr>\n",
       "    <tr>\n",
       "      <th>2</th>\n",
       "      <td>J</td>\n",
       "      <td>4.574215</td>\n",
       "    </tr>\n",
       "    <tr>\n",
       "      <th>3</th>\n",
       "      <td>E</td>\n",
       "      <td>4.506929</td>\n",
       "    </tr>\n",
       "    <tr>\n",
       "      <th>4</th>\n",
       "      <td>G</td>\n",
       "      <td>4.402431</td>\n",
       "    </tr>\n",
       "    <tr>\n",
       "      <th>5</th>\n",
       "      <td>B</td>\n",
       "      <td>4.357924</td>\n",
       "    </tr>\n",
       "    <tr>\n",
       "      <th>6</th>\n",
       "      <td>C</td>\n",
       "      <td>4.260645</td>\n",
       "    </tr>\n",
       "    <tr>\n",
       "      <th>7</th>\n",
       "      <td>I</td>\n",
       "      <td>4.200210</td>\n",
       "    </tr>\n",
       "    <tr>\n",
       "      <th>8</th>\n",
       "      <td>A</td>\n",
       "      <td>4.149655</td>\n",
       "    </tr>\n",
       "    <tr>\n",
       "      <th>9</th>\n",
       "      <td>D</td>\n",
       "      <td>4.125734</td>\n",
       "    </tr>\n",
       "    <tr>\n",
       "      <th>10</th>\n",
       "      <td>F</td>\n",
       "      <td>4.124747</td>\n",
       "    </tr>\n",
       "  </tbody>\n",
       "</table>\n",
       "</div>"
      ],
      "text/plain": [
       "             index  importance_permut\n",
       "0   random_feature           4.581307\n",
       "1                H           4.580022\n",
       "2                J           4.574215\n",
       "3                E           4.506929\n",
       "4                G           4.402431\n",
       "5                B           4.357924\n",
       "6                C           4.260645\n",
       "7                I           4.200210\n",
       "8                A           4.149655\n",
       "9                D           4.125734\n",
       "10               F           4.124747"
      ]
     },
     "execution_count": 12,
     "metadata": {},
     "output_type": "execute_result"
    }
   ],
   "source": [
    "model.df_permutation_fi # датафрейм с важностями для target permutation-модели"
   ]
  },
  {
   "cell_type": "code",
   "execution_count": 13,
   "id": "623f6069",
   "metadata": {},
   "outputs": [
    {
     "data": {
      "text/html": [
       "<div>\n",
       "<style scoped>\n",
       "    .dataframe tbody tr th:only-of-type {\n",
       "        vertical-align: middle;\n",
       "    }\n",
       "\n",
       "    .dataframe tbody tr th {\n",
       "        vertical-align: top;\n",
       "    }\n",
       "\n",
       "    .dataframe thead th {\n",
       "        text-align: right;\n",
       "    }\n",
       "</style>\n",
       "<table border=\"1\" class=\"dataframe\">\n",
       "  <thead>\n",
       "    <tr style=\"text-align: right;\">\n",
       "      <th></th>\n",
       "      <th>index</th>\n",
       "      <th>importance_benchmark</th>\n",
       "      <th>importance_permut</th>\n",
       "      <th>final_importance</th>\n",
       "    </tr>\n",
       "  </thead>\n",
       "  <tbody>\n",
       "    <tr>\n",
       "      <th>0</th>\n",
       "      <td>F</td>\n",
       "      <td>230.534286</td>\n",
       "      <td>4.124747</td>\n",
       "      <td>226.409539</td>\n",
       "    </tr>\n",
       "    <tr>\n",
       "      <th>1</th>\n",
       "      <td>A</td>\n",
       "      <td>65.284569</td>\n",
       "      <td>4.149655</td>\n",
       "      <td>61.134913</td>\n",
       "    </tr>\n",
       "    <tr>\n",
       "      <th>2</th>\n",
       "      <td>J</td>\n",
       "      <td>63.469402</td>\n",
       "      <td>4.574215</td>\n",
       "      <td>58.895187</td>\n",
       "    </tr>\n",
       "    <tr>\n",
       "      <th>3</th>\n",
       "      <td>C</td>\n",
       "      <td>32.615238</td>\n",
       "      <td>4.260645</td>\n",
       "      <td>28.354593</td>\n",
       "    </tr>\n",
       "    <tr>\n",
       "      <th>4</th>\n",
       "      <td>G</td>\n",
       "      <td>29.989086</td>\n",
       "      <td>4.402431</td>\n",
       "      <td>25.586655</td>\n",
       "    </tr>\n",
       "    <tr>\n",
       "      <th>5</th>\n",
       "      <td>B</td>\n",
       "      <td>20.135345</td>\n",
       "      <td>4.357924</td>\n",
       "      <td>15.777422</td>\n",
       "    </tr>\n",
       "    <tr>\n",
       "      <th>6</th>\n",
       "      <td>D</td>\n",
       "      <td>8.951872</td>\n",
       "      <td>4.125734</td>\n",
       "      <td>4.826138</td>\n",
       "    </tr>\n",
       "    <tr>\n",
       "      <th>8</th>\n",
       "      <td>E</td>\n",
       "      <td>1.624735</td>\n",
       "      <td>4.506929</td>\n",
       "      <td>-2.882194</td>\n",
       "    </tr>\n",
       "    <tr>\n",
       "      <th>7</th>\n",
       "      <td>H</td>\n",
       "      <td>1.691387</td>\n",
       "      <td>4.580022</td>\n",
       "      <td>-2.888635</td>\n",
       "    </tr>\n",
       "    <tr>\n",
       "      <th>10</th>\n",
       "      <td>I</td>\n",
       "      <td>1.200047</td>\n",
       "      <td>4.200210</td>\n",
       "      <td>-3.000163</td>\n",
       "    </tr>\n",
       "    <tr>\n",
       "      <th>9</th>\n",
       "      <td>random_feature</td>\n",
       "      <td>1.452201</td>\n",
       "      <td>4.581307</td>\n",
       "      <td>-3.129106</td>\n",
       "    </tr>\n",
       "  </tbody>\n",
       "</table>\n",
       "</div>"
      ],
      "text/plain": [
       "             index  importance_benchmark  importance_permut  final_importance\n",
       "0                F            230.534286           4.124747        226.409539\n",
       "1                A             65.284569           4.149655         61.134913\n",
       "2                J             63.469402           4.574215         58.895187\n",
       "3                C             32.615238           4.260645         28.354593\n",
       "4                G             29.989086           4.402431         25.586655\n",
       "5                B             20.135345           4.357924         15.777422\n",
       "6                D              8.951872           4.125734          4.826138\n",
       "8                E              1.624735           4.506929         -2.882194\n",
       "7                H              1.691387           4.580022         -2.888635\n",
       "10               I              1.200047           4.200210         -3.000163\n",
       "9   random_feature              1.452201           4.581307         -3.129106"
      ]
     },
     "execution_count": 13,
     "metadata": {},
     "output_type": "execute_result"
    }
   ],
   "source": [
    "model.df_fi_final # финальный датафрейм важностей фичей  "
   ]
  },
  {
   "cell_type": "markdown",
   "id": "915d6fc1",
   "metadata": {},
   "source": [
    "## Демонстрация метода на искусственных данных для задач классификации"
   ]
  },
  {
   "cell_type": "code",
   "execution_count": 14,
   "id": "fb451ad1",
   "metadata": {
    "jupyter": {
     "outputs_hidden": false
    },
    "pycharm": {
     "name": "#%%\n"
    }
   },
   "outputs": [],
   "source": [
    "# параметры для задачи классификации для разных эстиматоров\n",
    "params_xgb = {'eta':0.03,\n",
    "              'n_estimators':800,\n",
    "              'subsample':0.9,\n",
    "              'colsample_bytree':0.9,\n",
    "              'max_depth':6,\n",
    "              'objective':'binary:logistic',\n",
    "              'use_label_encoder':False,\n",
    "              'n_jobs':-1,\n",
    "              'random_state':42}\n",
    "\n",
    "params_ctb = {'depth':10,\n",
    "              'subsample':0.33,\n",
    "              'learning_rate':0.03,\n",
    "              'loss_function':'Logloss',\n",
    "              'random_state':42,\n",
    "              'verbose':0}\n",
    "\n",
    "params_lgb = {'learning_rate':0.03,\n",
    "              'subsample':0.9,\n",
    "              'colsample_bytree':0.9,\n",
    "              'objective':'binary',\n",
    "              'metric':'binary_logloss',\n",
    "              'n_jobs':-1,\n",
    "              'random_state':42,\n",
    "              'verbose':-1,\n",
    "              'force_col_wise':True}\n",
    "\n",
    "params_dt = {'criterion':'gini',\n",
    "             'max_depth':5,\n",
    "             'random_state':42}\n",
    "\n",
    "params_rf = {'criterion':'gini',\n",
    "             'max_depth':5,\n",
    "             'random_state':42,\n",
    "             'n_estimators':50}\n",
    "\n",
    "fit_params_xgb = {\n",
    "    'early_stopping_rounds':100, \n",
    "    'eval_metric':['logloss', 'aucpr', 'auc'],\n",
    "    'verbose':0}\n",
    "\n",
    "fit_params_ctb = {\n",
    "    'use_best_model':True,\n",
    "    'early_stopping_rounds':200, \n",
    "    'verbose':0,\n",
    "    'plot':False}\n",
    "\n",
    "fit_params_lgb = {\n",
    "    'early_stopping_rounds':100, \n",
    "    'eval_metric':['logloss', 'auc'],\n",
    "    'verbose':0}\n",
    "\n",
    "fit_params_rf = {}\n",
    "\n",
    "fit_params_dt = {}\n",
    "\n",
    "\n",
    "params_list = [params_xgb, \n",
    "               params_ctb, \n",
    "               params_lgb, \n",
    "               params_dt, \n",
    "               params_rf\n",
    "              ]\n",
    "\n",
    "\n",
    "fit_params_list = [fit_params_xgb, \n",
    "                   fit_params_ctb, \n",
    "                   fit_params_lgb, \n",
    "                   fit_params_dt, \n",
    "                   fit_params_rf\n",
    "                  ]\n",
    "\n",
    "models_list = ['xgboost', \n",
    "               'catboost', \n",
    "               'lightboost', \n",
    "               'decisiontree', \n",
    "               'randomforest'\n",
    "              ] "
   ]
  },
  {
   "cell_type": "code",
   "execution_count": 15,
   "id": "7d3d0afe",
   "metadata": {
    "pycharm": {
     "name": "#%%\n"
    },
    "scrolled": true,
    "tags": []
   },
   "outputs": [
    {
     "name": "stdout",
     "output_type": "stream",
     "text": [
      "\n",
      "                                  Модель:  xgboost\n",
      "============================== 1. Обучение benchmark-модели! ==============================\n",
      "BEST ITERATION:  55\n",
      "gini на обучающей выборке: 99.489\n",
      "gini на проверочной выборке: 99.162\n",
      "============================== 2. Обучение target permutation-модели! ==============================\n",
      "BEST ITERATION:  36\n",
      "gini на обучающей выборке: 56.275\n",
      "gini на проверочной выборке: 1.109\n",
      "\n",
      "     Модель:  xgboost\n",
      "10 признаков было до Target Permutation\n",
      "6 признаков после Target Permutation\n",
      "\n",
      "                                  Модель:  catboost\n",
      "============================== 1. Обучение benchmark-модели! ==============================\n",
      "BEST ITERATION:  495\n",
      "gini на обучающей выборке: 99.999\n",
      "gini на проверочной выборке: 99.025\n",
      "============================== 2. Обучение target permutation-модели! ==============================\n",
      "BEST ITERATION:  0\n",
      "gini на обучающей выборке: 21.822\n",
      "gini на проверочной выборке: 1.947\n",
      "\n",
      "     Модель:  catboost\n",
      "10 признаков было до Target Permutation\n",
      "5 признаков после Target Permutation\n",
      "\n",
      "                                  Модель:  lightboost\n",
      "============================== 1. Обучение benchmark-модели! ==============================\n",
      "BEST ITERATION:  100\n",
      "gini на обучающей выборке: 99.749\n",
      "gini на проверочной выборке: 99.128\n",
      "============================== 2. Обучение target permutation-модели! ==============================\n",
      "BEST ITERATION:  100\n",
      "gini на обучающей выборке: 73.012\n",
      "gini на проверочной выборке: 0.972\n",
      "\n",
      "     Модель:  lightboost\n",
      "10 признаков было до Target Permutation\n",
      "6 признаков после Target Permutation\n",
      "\n",
      "                                  Модель:  decisiontree\n",
      "============================== 1. Обучение benchmark-модели! ==============================\n",
      "gini на обучающей выборке: 98.557\n",
      "gini на проверочной выборке: 97.273\n",
      "============================== 2. Обучение target permutation-модели! ==============================\n",
      "gini на обучающей выборке: 12.340\n",
      "gini на проверочной выборке: 0.591\n",
      "\n",
      "     Модель:  decisiontree\n",
      "10 признаков было до Target Permutation\n",
      "3 признаков после Target Permutation\n",
      "\n",
      "                                  Модель:  randomforest\n",
      "============================== 1. Обучение benchmark-модели! ==============================\n",
      "gini на обучающей выборке: 99.248\n",
      "gini на проверочной выборке: 98.851\n",
      "============================== 2. Обучение target permutation-модели! ==============================\n",
      "gini на обучающей выборке: 41.587\n",
      "gini на проверочной выборке: 0.155\n",
      "\n",
      "     Модель:  randomforest\n",
      "10 признаков было до Target Permutation\n",
      "3 признаков после Target Permutation\n"
     ]
    }
   ],
   "source": [
    "features_dict_target_perm = dict()\n",
    "df_importance = dict()\n",
    "\n",
    "for i in range(len(params_list)):\n",
    "    estimator = utils_target_permutation.select_estimator(\n",
    "        task_type='classification', \n",
    "        model_type=models_list[i], \n",
    "        main_fit_params=params_list[i])\n",
    "    \n",
    "    print('\\n                                  Модель: ', models_list[i])\n",
    "    model = TargetPermutationSelection(\n",
    "        main_estimator=estimator, \n",
    "        main_fit_params=fit_params_list[i],\n",
    "        main_prep_pipe=prep_pipe,\n",
    "        main_features=num_columns + cat_columns,\n",
    "        \n",
    "        X_train=sample[num_columns + cat_columns],\n",
    "        y_train=sample[target], \n",
    "        main_metric='gini',\n",
    "        model_type=models_list[i])\n",
    "    \n",
    "    model.calculate_permutation()\n",
    "    \n",
    "    print('\\n     Модель: ', models_list[i])\n",
    "    features_dict_target_perm[models_list[i]] = model.select_features(select_type='tyta')\n",
    "    df_importance[models_list[i]] = model.df_fi_final"
   ]
  },
  {
   "cell_type": "code",
   "execution_count": 16,
   "id": "b8f5e767",
   "metadata": {
    "jupyter": {
     "outputs_hidden": false
    },
    "pycharm": {
     "name": "#%%\n"
    }
   },
   "outputs": [
    {
     "data": {
      "text/plain": [
       "{'xgboost': ['F', 'J', 'A', 'G', 'C', 'B'],\n",
       " 'catboost': ['F', 'B', 'G', 'J', 'D'],\n",
       " 'lightboost': ['F', 'G', 'A', 'J', 'C', 'B'],\n",
       " 'decisiontree': ['F', 'B', 'E'],\n",
       " 'randomforest': ['F', 'A', 'J']}"
      ]
     },
     "execution_count": 16,
     "metadata": {},
     "output_type": "execute_result"
    }
   ],
   "source": [
    "features_dict_target_perm"
   ]
  },
  {
   "cell_type": "code",
   "execution_count": 17,
   "id": "c1359ce4",
   "metadata": {
    "jupyter": {
     "outputs_hidden": false
    },
    "pycharm": {
     "name": "#%%\n"
    }
   },
   "outputs": [
    {
     "name": "stdout",
     "output_type": "stream",
     "text": [
      "{'J', 'G', 'B', 'A', 'F'}\n"
     ]
    }
   ],
   "source": [
    "print(utils_target_permutation.intersection_set(features_dict_target_perm, 3))"
   ]
  },
  {
   "cell_type": "code",
   "execution_count": 18,
   "id": "c07a499b",
   "metadata": {},
   "outputs": [
    {
     "name": "stdout",
     "output_type": "stream",
     "text": [
      "Веса для первый фичи для каждой модели выбраны одинаковыми => все модели имеют одинаковый вес.\n",
      "Отобраны фичи, которые имеют скор больше среднего.\n",
      "Отобрано 5 фичей\n"
     ]
    },
    {
     "data": {
      "text/html": [
       "<div>\n",
       "<style scoped>\n",
       "    .dataframe tbody tr th:only-of-type {\n",
       "        vertical-align: middle;\n",
       "    }\n",
       "\n",
       "    .dataframe tbody tr th {\n",
       "        vertical-align: top;\n",
       "    }\n",
       "\n",
       "    .dataframe thead th {\n",
       "        text-align: right;\n",
       "    }\n",
       "</style>\n",
       "<table border=\"1\" class=\"dataframe\">\n",
       "  <thead>\n",
       "    <tr style=\"text-align: right;\">\n",
       "      <th></th>\n",
       "      <th>features</th>\n",
       "      <th>score</th>\n",
       "    </tr>\n",
       "  </thead>\n",
       "  <tbody>\n",
       "    <tr>\n",
       "      <th>7</th>\n",
       "      <td>F</td>\n",
       "      <td>100.0000</td>\n",
       "    </tr>\n",
       "    <tr>\n",
       "      <th>1</th>\n",
       "      <td>J</td>\n",
       "      <td>63.3600</td>\n",
       "    </tr>\n",
       "    <tr>\n",
       "      <th>5</th>\n",
       "      <td>B</td>\n",
       "      <td>59.6196</td>\n",
       "    </tr>\n",
       "    <tr>\n",
       "      <th>6</th>\n",
       "      <td>A</td>\n",
       "      <td>50.4000</td>\n",
       "    </tr>\n",
       "    <tr>\n",
       "      <th>2</th>\n",
       "      <td>G</td>\n",
       "      <td>48.7800</td>\n",
       "    </tr>\n",
       "  </tbody>\n",
       "</table>\n",
       "</div>"
      ],
      "text/plain": [
       "  features     score\n",
       "7        F  100.0000\n",
       "1        J   63.3600\n",
       "5        B   59.6196\n",
       "6        A   50.4000\n",
       "2        G   48.7800"
      ]
     },
     "execution_count": 18,
     "metadata": {},
     "output_type": "execute_result"
    }
   ],
   "source": [
    "# отбор фичей при помощи взвешенной частоты фичей\n",
    "utils_target_permutation.aggregated_feature_selection(\n",
    "    feat_dist = features_dict_target_perm, \n",
    "    mean_score_select = True)"
   ]
  },
  {
   "cell_type": "code",
   "execution_count": 19,
   "id": "7838c951",
   "metadata": {},
   "outputs": [
    {
     "name": "stdout",
     "output_type": "stream",
     "text": [
      "Веса для первый фичи для каждой модели выбраны одинаковыми => все модели имеют одинаковый вес.\n",
      "Отобрано 8 фичей\n"
     ]
    },
    {
     "data": {
      "text/html": [
       "<div>\n",
       "<style scoped>\n",
       "    .dataframe tbody tr th:only-of-type {\n",
       "        vertical-align: middle;\n",
       "    }\n",
       "\n",
       "    .dataframe tbody tr th {\n",
       "        vertical-align: top;\n",
       "    }\n",
       "\n",
       "    .dataframe thead th {\n",
       "        text-align: right;\n",
       "    }\n",
       "</style>\n",
       "<table border=\"1\" class=\"dataframe\">\n",
       "  <thead>\n",
       "    <tr style=\"text-align: right;\">\n",
       "      <th></th>\n",
       "      <th>features</th>\n",
       "      <th>score</th>\n",
       "    </tr>\n",
       "  </thead>\n",
       "  <tbody>\n",
       "    <tr>\n",
       "      <th>7</th>\n",
       "      <td>F</td>\n",
       "      <td>100.0000</td>\n",
       "    </tr>\n",
       "    <tr>\n",
       "      <th>1</th>\n",
       "      <td>J</td>\n",
       "      <td>63.3600</td>\n",
       "    </tr>\n",
       "    <tr>\n",
       "      <th>5</th>\n",
       "      <td>B</td>\n",
       "      <td>59.6196</td>\n",
       "    </tr>\n",
       "    <tr>\n",
       "      <th>6</th>\n",
       "      <td>A</td>\n",
       "      <td>50.4000</td>\n",
       "    </tr>\n",
       "    <tr>\n",
       "      <th>2</th>\n",
       "      <td>G</td>\n",
       "      <td>48.7800</td>\n",
       "    </tr>\n",
       "    <tr>\n",
       "      <th>0</th>\n",
       "      <td>C</td>\n",
       "      <td>26.2440</td>\n",
       "    </tr>\n",
       "    <tr>\n",
       "      <th>4</th>\n",
       "      <td>E</td>\n",
       "      <td>16.2000</td>\n",
       "    </tr>\n",
       "    <tr>\n",
       "      <th>3</th>\n",
       "      <td>D</td>\n",
       "      <td>13.1220</td>\n",
       "    </tr>\n",
       "  </tbody>\n",
       "</table>\n",
       "</div>"
      ],
      "text/plain": [
       "  features     score\n",
       "7        F  100.0000\n",
       "1        J   63.3600\n",
       "5        B   59.6196\n",
       "6        A   50.4000\n",
       "2        G   48.7800\n",
       "0        C   26.2440\n",
       "4        E   16.2000\n",
       "3        D   13.1220"
      ]
     },
     "execution_count": 19,
     "metadata": {},
     "output_type": "execute_result"
    }
   ],
   "source": [
    "# отбор фичей при помощи взвешенной частоты фичей\n",
    "utils_target_permutation.aggregated_feature_selection(\n",
    "    feat_dist = features_dict_target_perm, \n",
    "    mean_score_select = False)"
   ]
  },
  {
   "cell_type": "markdown",
   "id": "627af00a",
   "metadata": {
    "pycharm": {
     "name": "#%% md\n"
    }
   },
   "source": [
    "## Демонстрация метода на данных Титаник"
   ]
  },
  {
   "cell_type": "code",
   "execution_count": 20,
   "id": "a3dca2b2",
   "metadata": {
    "jupyter": {
     "outputs_hidden": false
    },
    "pycharm": {
     "name": "#%%\n"
    }
   },
   "outputs": [
    {
     "name": "stdout",
     "output_type": "stream",
     "text": [
      "Размерность данных: (891, 12)\n"
     ]
    },
    {
     "data": {
      "text/html": [
       "<div>\n",
       "<style scoped>\n",
       "    .dataframe tbody tr th:only-of-type {\n",
       "        vertical-align: middle;\n",
       "    }\n",
       "\n",
       "    .dataframe tbody tr th {\n",
       "        vertical-align: top;\n",
       "    }\n",
       "\n",
       "    .dataframe thead th {\n",
       "        text-align: right;\n",
       "    }\n",
       "</style>\n",
       "<table border=\"1\" class=\"dataframe\">\n",
       "  <thead>\n",
       "    <tr style=\"text-align: right;\">\n",
       "      <th></th>\n",
       "      <th>PassengerId</th>\n",
       "      <th>Survived</th>\n",
       "      <th>Pclass</th>\n",
       "      <th>Name</th>\n",
       "      <th>Sex</th>\n",
       "      <th>Age</th>\n",
       "      <th>SibSp</th>\n",
       "      <th>Parch</th>\n",
       "      <th>Ticket</th>\n",
       "      <th>Fare</th>\n",
       "      <th>Cabin</th>\n",
       "      <th>Embarked</th>\n",
       "    </tr>\n",
       "  </thead>\n",
       "  <tbody>\n",
       "    <tr>\n",
       "      <th>0</th>\n",
       "      <td>1</td>\n",
       "      <td>0</td>\n",
       "      <td>3</td>\n",
       "      <td>Braund, Mr. Owen Harris</td>\n",
       "      <td>male</td>\n",
       "      <td>22.0</td>\n",
       "      <td>1</td>\n",
       "      <td>0</td>\n",
       "      <td>A/5 21171</td>\n",
       "      <td>7.2500</td>\n",
       "      <td>NaN</td>\n",
       "      <td>S</td>\n",
       "    </tr>\n",
       "    <tr>\n",
       "      <th>1</th>\n",
       "      <td>2</td>\n",
       "      <td>1</td>\n",
       "      <td>1</td>\n",
       "      <td>Cumings, Mrs. John Bradley (Florence Briggs Th...</td>\n",
       "      <td>female</td>\n",
       "      <td>38.0</td>\n",
       "      <td>1</td>\n",
       "      <td>0</td>\n",
       "      <td>PC 17599</td>\n",
       "      <td>71.2833</td>\n",
       "      <td>C85</td>\n",
       "      <td>C</td>\n",
       "    </tr>\n",
       "  </tbody>\n",
       "</table>\n",
       "</div>"
      ],
      "text/plain": [
       "   PassengerId  Survived  Pclass  \\\n",
       "0            1         0       3   \n",
       "1            2         1       1   \n",
       "\n",
       "                                                Name     Sex   Age  SibSp  \\\n",
       "0                            Braund, Mr. Owen Harris    male  22.0      1   \n",
       "1  Cumings, Mrs. John Bradley (Florence Briggs Th...  female  38.0      1   \n",
       "\n",
       "   Parch     Ticket     Fare Cabin Embarked  \n",
       "0      0  A/5 21171   7.2500   NaN        S  \n",
       "1      0   PC 17599  71.2833   C85        C  "
      ]
     },
     "execution_count": 20,
     "metadata": {},
     "output_type": "execute_result"
    }
   ],
   "source": [
    "sample = pd.read_csv('../data/train_titanic.csv')\n",
    "\n",
    "print('Размерность данных:', sample.shape)\n",
    "sample.head(2)"
   ]
  },
  {
   "cell_type": "code",
   "execution_count": 21,
   "id": "b9e6bf6f",
   "metadata": {
    "jupyter": {
     "outputs_hidden": false
    },
    "pycharm": {
     "name": "#%%\n"
    }
   },
   "outputs": [
    {
     "name": "stdout",
     "output_type": "stream",
     "text": [
      "Определены количественные и категориальные переменные!\n"
     ]
    }
   ],
   "source": [
    "num_columns = [\n",
    "    'Age', 'Fare'\n",
    "]\n",
    "\n",
    "cat_columns = [\n",
    "    'Pclass', 'Sex', 'Embarked', 'SibSp', 'Parch'\n",
    "]\n",
    "\n",
    "target = ['Survived']\n",
    "\n",
    "prep_pipe = base_pipe(\n",
    "    num_columns=num_columns, \n",
    "    cat_columns=cat_columns)"
   ]
  },
  {
   "cell_type": "code",
   "execution_count": 22,
   "id": "a8c7c3d7",
   "metadata": {
    "jupyter": {
     "outputs_hidden": true
    },
    "pycharm": {
     "name": "#%%\n"
    },
    "scrolled": true,
    "tags": []
   },
   "outputs": [
    {
     "name": "stdout",
     "output_type": "stream",
     "text": [
      "============================== 1. Обучение benchmark-модели! ==============================\n",
      "BEST ITERATION:  11\n",
      "gini на обучающей выборке: 85.281\n",
      "gini на проверочной выборке: 73.976\n",
      "============================== 2. Обучение target permutation-модели! ==============================\n",
      "BEST ITERATION:  4\n",
      "gini на обучающей выборке: 59.954\n",
      "gini на проверочной выборке: 9.411\n",
      "Модель:  xgboost \n",
      "\n",
      "7 признаков было до Target Permutation\n",
      "7 признаков после Target Permutation\n",
      "============================== 1. Обучение benchmark-модели! ==============================\n",
      "BEST ITERATION:  98\n",
      "gini на обучающей выборке: 95.462\n",
      "gini на проверочной выборке: 74.220\n",
      "============================== 2. Обучение target permutation-модели! ==============================\n",
      "BEST ITERATION:  24\n",
      "gini на обучающей выборке: 87.064\n",
      "gini на проверочной выборке: 2.393\n",
      "Модель:  catboost \n",
      "\n",
      "7 признаков было до Target Permutation\n",
      "7 признаков после Target Permutation\n",
      "============================== 1. Обучение benchmark-модели! ==============================\n",
      "BEST ITERATION:  100\n",
      "gini на обучающей выборке: 93.035\n",
      "gini на проверочной выборке: 70.357\n",
      "============================== 2. Обучение target permutation-модели! ==============================\n",
      "BEST ITERATION:  100\n",
      "gini на обучающей выборке: 87.627\n",
      "gini на проверочной выборке: -4.088\n",
      "Модель:  lightboost \n",
      "\n",
      "7 признаков было до Target Permutation\n",
      "7 признаков после Target Permutation\n",
      "============================== 1. Обучение benchmark-модели! ==============================\n",
      "gini на обучающей выборке: 85.624\n",
      "gini на проверочной выборке: 60.619\n",
      "============================== 2. Обучение target permutation-модели! ==============================\n",
      "gini на обучающей выборке: 35.784\n",
      "gini на проверочной выборке: -1.894\n",
      "Модель:  decisiontree \n",
      "\n",
      "7 признаков было до Target Permutation\n",
      "5 признаков после Target Permutation\n",
      "============================== 1. Обучение benchmark-модели! ==============================\n",
      "gini на обучающей выборке: 85.925\n",
      "gini на проверочной выборке: 72.827\n",
      "============================== 2. Обучение target permutation-модели! ==============================\n",
      "gini на обучающей выборке: 67.338\n",
      "gini на проверочной выборке: -2.560\n",
      "Модель:  randomforest \n",
      "\n",
      "7 признаков было до Target Permutation\n",
      "7 признаков после Target Permutation\n",
      "CPU times: user 24.7 s, sys: 1.57 s, total: 26.3 s\n",
      "Wall time: 3.27 s\n"
     ]
    }
   ],
   "source": [
    "%%time\n",
    "features_dict_target_perm = dict()\n",
    "df_importance = dict()\n",
    "\n",
    "for i in range(len(params_list)):\n",
    "    estimator = utils_target_permutation.select_estimator(\n",
    "        'classification', \n",
    "        models_list[i], \n",
    "        params_list[i])\n",
    "    \n",
    "    model = TargetPermutationSelection(\n",
    "        main_estimator=estimator, \n",
    "        main_fit_params=fit_params_list[i],\n",
    "        main_prep_pipe=prep_pipe,\n",
    "        main_features=num_columns + cat_columns,\n",
    "        \n",
    "        X_train=sample[num_columns + cat_columns],\n",
    "        y_train=sample[target], \n",
    "        \n",
    "        main_metric='gini',\n",
    "        model_type=models_list[i])\n",
    "    \n",
    "    model.calculate_permutation()\n",
    "    \n",
    "    print('Модель: ', models_list[i], '\\n')\n",
    "    features_dict_target_perm[models_list[i]] = model.select_features()\n",
    "    df_importance[models_list[i]] = model.df_fi_final"
   ]
  },
  {
   "cell_type": "code",
   "execution_count": 23,
   "id": "817352d1",
   "metadata": {
    "jupyter": {
     "outputs_hidden": false
    },
    "pycharm": {
     "name": "#%%\n"
    }
   },
   "outputs": [
    {
     "data": {
      "text/plain": [
       "{'xgboost': ['Sex', 'Pclass', 'Parch', 'SibSp', 'Embarked', 'Fare', 'Age'],\n",
       " 'catboost': ['Sex', 'Pclass', 'SibSp', 'Age', 'Embarked', 'Parch', 'Fare'],\n",
       " 'lightboost': ['Sex', 'Pclass', 'Age', 'Parch', 'Embarked', 'SibSp', 'Fare'],\n",
       " 'decisiontree': ['Sex', 'Pclass', 'Parch', 'Embarked', 'SibSp'],\n",
       " 'randomforest': ['Sex',\n",
       "  'Pclass',\n",
       "  'Fare',\n",
       "  'Embarked',\n",
       "  'Parch',\n",
       "  'SibSp',\n",
       "  'Age']}"
      ]
     },
     "execution_count": 23,
     "metadata": {},
     "output_type": "execute_result"
    }
   ],
   "source": [
    "features_dict_target_perm"
   ]
  },
  {
   "cell_type": "code",
   "execution_count": 24,
   "id": "3f27ffb3",
   "metadata": {
    "jupyter": {
     "outputs_hidden": false
    },
    "pycharm": {
     "name": "#%%\n"
    }
   },
   "outputs": [
    {
     "name": "stdout",
     "output_type": "stream",
     "text": [
      "{'Sex', 'SibSp', 'Pclass', 'Age', 'Embarked', 'Parch', 'Fare'}\n"
     ]
    }
   ],
   "source": [
    "print(utils_target_permutation.intersection_set(features_dict_target_perm, 3))"
   ]
  },
  {
   "cell_type": "code",
   "execution_count": 25,
   "id": "73b22948",
   "metadata": {
    "jupyter": {
     "outputs_hidden": false
    },
    "pycharm": {
     "name": "#%%\n"
    }
   },
   "outputs": [
    {
     "name": "stdout",
     "output_type": "stream",
     "text": [
      "Веса для первый фичи для каждой модели выбраны одинаковыми => все модели имеют одинаковый вес.\n",
      "Отобраны фичи, которые имеют скор больше среднего.\n",
      "Отобрано 3 фичей\n"
     ]
    },
    {
     "data": {
      "text/html": [
       "<div>\n",
       "<style scoped>\n",
       "    .dataframe tbody tr th:only-of-type {\n",
       "        vertical-align: middle;\n",
       "    }\n",
       "\n",
       "    .dataframe tbody tr th {\n",
       "        vertical-align: top;\n",
       "    }\n",
       "\n",
       "    .dataframe thead th {\n",
       "        text-align: right;\n",
       "    }\n",
       "</style>\n",
       "<table border=\"1\" class=\"dataframe\">\n",
       "  <thead>\n",
       "    <tr style=\"text-align: right;\">\n",
       "      <th></th>\n",
       "      <th>features</th>\n",
       "      <th>score</th>\n",
       "    </tr>\n",
       "  </thead>\n",
       "  <tbody>\n",
       "    <tr>\n",
       "      <th>0</th>\n",
       "      <td>Sex</td>\n",
       "      <td>100.0000</td>\n",
       "    </tr>\n",
       "    <tr>\n",
       "      <th>2</th>\n",
       "      <td>Pclass</td>\n",
       "      <td>90.0000</td>\n",
       "    </tr>\n",
       "    <tr>\n",
       "      <th>6</th>\n",
       "      <td>Parch</td>\n",
       "      <td>71.9118</td>\n",
       "    </tr>\n",
       "  </tbody>\n",
       "</table>\n",
       "</div>"
      ],
      "text/plain": [
       "  features     score\n",
       "0      Sex  100.0000\n",
       "2   Pclass   90.0000\n",
       "6    Parch   71.9118"
      ]
     },
     "execution_count": 25,
     "metadata": {},
     "output_type": "execute_result"
    }
   ],
   "source": [
    "# отбор фичей при помощи взвешенной частоты фичей\n",
    "utils_target_permutation.aggregated_feature_selection(\n",
    "    feat_dist = features_dict_target_perm, \n",
    "    mean_score_select = True)"
   ]
  },
  {
   "cell_type": "code",
   "execution_count": 26,
   "id": "04a7f340",
   "metadata": {},
   "outputs": [
    {
     "name": "stdout",
     "output_type": "stream",
     "text": [
      "Веса для первый фичи для каждой модели выбраны одинаковыми => все модели имеют одинаковый вес.\n",
      "Отобрано 7 фичей\n"
     ]
    },
    {
     "data": {
      "text/html": [
       "<div>\n",
       "<style scoped>\n",
       "    .dataframe tbody tr th:only-of-type {\n",
       "        vertical-align: middle;\n",
       "    }\n",
       "\n",
       "    .dataframe tbody tr th {\n",
       "        vertical-align: top;\n",
       "    }\n",
       "\n",
       "    .dataframe thead th {\n",
       "        text-align: right;\n",
       "    }\n",
       "</style>\n",
       "<table border=\"1\" class=\"dataframe\">\n",
       "  <thead>\n",
       "    <tr style=\"text-align: right;\">\n",
       "      <th></th>\n",
       "      <th>features</th>\n",
       "      <th>score</th>\n",
       "    </tr>\n",
       "  </thead>\n",
       "  <tbody>\n",
       "    <tr>\n",
       "      <th>0</th>\n",
       "      <td>Sex</td>\n",
       "      <td>100.00000</td>\n",
       "    </tr>\n",
       "    <tr>\n",
       "      <th>2</th>\n",
       "      <td>Pclass</td>\n",
       "      <td>90.00000</td>\n",
       "    </tr>\n",
       "    <tr>\n",
       "      <th>6</th>\n",
       "      <td>Parch</td>\n",
       "      <td>71.91180</td>\n",
       "    </tr>\n",
       "    <tr>\n",
       "      <th>4</th>\n",
       "      <td>Embarked</td>\n",
       "      <td>68.52600</td>\n",
       "    </tr>\n",
       "    <tr>\n",
       "      <th>1</th>\n",
       "      <td>SibSp</td>\n",
       "      <td>67.52160</td>\n",
       "    </tr>\n",
       "    <tr>\n",
       "      <th>3</th>\n",
       "      <td>Age</td>\n",
       "      <td>52.03764</td>\n",
       "    </tr>\n",
       "    <tr>\n",
       "      <th>5</th>\n",
       "      <td>Fare</td>\n",
       "      <td>49.26744</td>\n",
       "    </tr>\n",
       "  </tbody>\n",
       "</table>\n",
       "</div>"
      ],
      "text/plain": [
       "   features      score\n",
       "0       Sex  100.00000\n",
       "2    Pclass   90.00000\n",
       "6     Parch   71.91180\n",
       "4  Embarked   68.52600\n",
       "1     SibSp   67.52160\n",
       "3       Age   52.03764\n",
       "5      Fare   49.26744"
      ]
     },
     "execution_count": 26,
     "metadata": {},
     "output_type": "execute_result"
    }
   ],
   "source": [
    "utils_target_permutation.aggregated_feature_selection(\n",
    "    feat_dist = features_dict_target_perm, \n",
    "    mean_score_select = False)"
   ]
  },
  {
   "cell_type": "markdown",
   "id": "e3f67258",
   "metadata": {
    "pycharm": {
     "name": "#%% md\n"
    }
   },
   "source": [
    "# Задача Регрессии "
   ]
  },
  {
   "cell_type": "markdown",
   "id": "3adfe02b",
   "metadata": {
    "pycharm": {
     "name": "#%% md\n"
    }
   },
   "source": [
    "## Генерация искуственных данных"
   ]
  },
  {
   "cell_type": "code",
   "execution_count": 27,
   "id": "2443dcec",
   "metadata": {
    "jupyter": {
     "outputs_hidden": false
    },
    "pycharm": {
     "name": "#%%\n"
    }
   },
   "outputs": [],
   "source": [
    "from sklearn.datasets import make_regression\n",
    "\n",
    "X,y = make_regression(n_samples=10000,\n",
    "                      n_features=10,\n",
    "                      n_informative=5,\n",
    "                      n_targets=1,\n",
    "                      noise=25,\n",
    "                      random_state=2022)\n",
    "\n",
    "columns = ['A','B','C','D','E','F','G','H','I','J']\n",
    "sample = pd.DataFrame(X, columns=columns)\n",
    "sample['target'] = y\n",
    "target = 'target'"
   ]
  },
  {
   "cell_type": "code",
   "execution_count": 28,
   "id": "e520da4c",
   "metadata": {
    "jupyter": {
     "outputs_hidden": false
    },
    "pycharm": {
     "name": "#%%\n"
    }
   },
   "outputs": [
    {
     "name": "stdout",
     "output_type": "stream",
     "text": [
      "Определены только количественные переменные!\n"
     ]
    }
   ],
   "source": [
    "num_columns = columns\n",
    "cat_columns = []\n",
    "target = ['target']\n",
    "\n",
    "#pipline\n",
    "prep_pipe = base_pipe(num_columns=num_columns,\n",
    "                     cat_columns=cat_columns)"
   ]
  },
  {
   "cell_type": "code",
   "execution_count": 29,
   "id": "41739d1e",
   "metadata": {
    "jupyter": {
     "outputs_hidden": false
    },
    "pycharm": {
     "name": "#%%\n"
    }
   },
   "outputs": [],
   "source": [
    "# Определение стандартных гиперпараметров моделей и список моделей\n",
    "params_xgb = {\n",
    "    'eta':0.01,\n",
    "    'n_estimators':1000,\n",
    "    'subsample':0.8,\n",
    "    'colsample_bytree':0.8,\n",
    "    'max_depth':6,\n",
    "    'objective':'reg:squarederror',\n",
    "    'n_jobs':-1,\n",
    "    'random_state':42}\n",
    "\n",
    "params_ctb = {\n",
    "    'learning_rate':0.01,\n",
    "    'iterations':1000,\n",
    "    'subsample':0.8,\n",
    "    'colsample_bylevel':0.8,\n",
    "    'depth':6,\n",
    "    'loss_function':'MAPE',\n",
    "    'thread_count':-1,\n",
    "    'random_state':42,\n",
    "    'custom_metric':'MAE',\n",
    "    'verbose':0}\n",
    "\n",
    "params_lgb = {\n",
    "    'learning_rate':0.01,\n",
    "    'n_estimators':1000,\n",
    "    'subsample':0.9,\n",
    "    'colsample_bytree':0.6,\n",
    "    'max_depth':6,\n",
    "    'objective':'regression',\n",
    "    'n_jobs':-1,\n",
    "    'random_state':42}\n",
    "\n",
    "params_dt = {'max_depth':5,\n",
    "             'random_state':42}\n",
    "\n",
    "params_rf = {'max_depth':5,\n",
    "             'random_state':42,\n",
    "             'n_estimators':50}\n",
    "\n",
    "fit_params_xgb = {\n",
    "    'early_stopping_rounds':200, \n",
    "    'eval_metric':'rmse',\n",
    "    'verbose':0}\n",
    "\n",
    "fit_params_ctb = {\n",
    "    'use_best_model':True,\n",
    "    'early_stopping_rounds':200, \n",
    "    'verbose':0,\n",
    "    'plot':False}\n",
    "\n",
    "fit_params_lgb = {\n",
    "    'early_stopping_rounds':200, \n",
    "    'eval_metric':'rmse',\n",
    "    'verbose':0}\n",
    "\n",
    "fit_params_rf = {}\n",
    "\n",
    "fit_params_dt = {}\n",
    "\n",
    "\n",
    "params_list = [params_xgb, \n",
    "               params_ctb, \n",
    "               params_lgb, \n",
    "               params_dt, \n",
    "               params_rf\n",
    "              ]\n",
    "\n",
    "fit_params_list = [fit_params_xgb, \n",
    "                   fit_params_ctb, \n",
    "                   fit_params_lgb, \n",
    "                   fit_params_dt, \n",
    "                   fit_params_rf]\n",
    "\n",
    "models_list = ['xgboost', \n",
    "               'catboost', \n",
    "               'lightboost', \n",
    "               'decisiontree', \n",
    "               'randomforest']"
   ]
  },
  {
   "cell_type": "code",
   "execution_count": 30,
   "id": "11af72cc",
   "metadata": {
    "pycharm": {
     "name": "#%%\n"
    },
    "scrolled": true,
    "tags": []
   },
   "outputs": [
    {
     "name": "stdout",
     "output_type": "stream",
     "text": [
      "============================== 1. Обучение benchmark-модели! ==============================\n",
      "BEST ITERATION:  999\n",
      "mape на обучающей выборке: 0.849\n",
      "mape на проверочной выборке: 1.157\n",
      "============================== 2. Обучение target permutation-модели! ==============================\n",
      "BEST ITERATION:  0\n",
      "mape на обучающей выборке: 1.010\n",
      "mape на проверочной выборке: 1.035\n",
      "Модель:  xgboost \n",
      "\n",
      "10 признаков было до Target Permutation\n",
      "10 признаков после Target Permutation\n",
      "============================== 1. Обучение benchmark-модели! ==============================\n",
      "BEST ITERATION:  996\n",
      "mape на обучающей выборке: 0.758\n",
      "mape на проверочной выборке: 0.913\n",
      "============================== 2. Обучение target permutation-модели! ==============================\n",
      "BEST ITERATION:  42\n",
      "mape на обучающей выборке: 0.997\n",
      "mape на проверочной выборке: 1.002\n",
      "Модель:  catboost \n",
      "\n",
      "10 признаков было до Target Permutation\n",
      "10 признаков после Target Permutation\n",
      "============================== 1. Обучение benchmark-модели! ==============================\n",
      "BEST ITERATION:  1000\n",
      "mape на обучающей выборке: 0.921\n",
      "mape на проверочной выборке: 1.277\n",
      "============================== 2. Обучение target permutation-модели! ==============================\n",
      "BEST ITERATION:  12\n",
      "mape на обучающей выборке: 1.032\n",
      "mape на проверочной выборке: 1.050\n",
      "Модель:  lightboost \n",
      "\n",
      "10 признаков было до Target Permutation\n",
      "7 признаков после Target Permutation\n",
      "============================== 1. Обучение benchmark-модели! ==============================\n",
      "mape на обучающей выборке: 2.231\n",
      "mape на проверочной выборке: 2.682\n",
      "============================== 2. Обучение target permutation-модели! ==============================\n",
      "mape на обучающей выборке: 1.159\n",
      "mape на проверочной выборке: 1.231\n",
      "Модель:  decisiontree \n",
      "\n",
      "10 признаков было до Target Permutation\n",
      "3 признаков после Target Permutation\n",
      "============================== 1. Обучение benchmark-модели! ==============================\n",
      "mape на обучающей выборке: 1.706\n",
      "mape на проверочной выборке: 1.863\n",
      "============================== 2. Обучение target permutation-модели! ==============================\n",
      "mape на обучающей выборке: 1.103\n",
      "mape на проверочной выборке: 1.172\n",
      "Модель:  randomforest \n",
      "\n",
      "10 признаков было до Target Permutation\n",
      "8 признаков после Target Permutation\n",
      "CPU times: user 1min 47s, sys: 4.42 s, total: 1min 52s\n",
      "Wall time: 9.93 s\n"
     ]
    }
   ],
   "source": [
    "%%time\n",
    "features_dict_target_perm = dict()\n",
    "df_importance = dict()\n",
    "\n",
    "for i in range(len(params_list)):\n",
    "    estimator = utils_target_permutation.select_estimator('regression', models_list[i], params_list[i])\n",
    "    \n",
    "    model = TargetPermutationSelection(\n",
    "        main_estimator=estimator, \n",
    "        main_fit_params=fit_params_list[i],\n",
    "        main_prep_pipe=prep_pipe,\n",
    "        main_features=num_columns + cat_columns,\n",
    "        \n",
    "        X_train=sample[num_columns + cat_columns],\n",
    "        y_train=sample[target], \n",
    "        main_metric='mape',\n",
    "        model_type=models_list[i])\n",
    "    \n",
    "    model.calculate_permutation()\n",
    "    \n",
    "    print('Модель: ', models_list[i], '\\n')\n",
    "    features_dict_target_perm[models_list[i]] = model.select_features()\n",
    "    df_importance[models_list[i]] = model.df_fi_final"
   ]
  },
  {
   "cell_type": "code",
   "execution_count": 31,
   "id": "6e89782e",
   "metadata": {
    "jupyter": {
     "outputs_hidden": false
    },
    "pycharm": {
     "name": "#%%\n"
    }
   },
   "outputs": [
    {
     "data": {
      "text/plain": [
       "{'xgboost': ['G', 'E', 'J', 'A', 'B', 'C', 'D', 'F', 'I', 'H'],\n",
       " 'catboost': ['G', 'E', 'J', 'A', 'I', 'H', 'B', 'F', 'D', 'C'],\n",
       " 'lightboost': ['G', 'E', 'J', 'A', 'H', 'B', 'D'],\n",
       " 'decisiontree': ['G', 'E', 'J'],\n",
       " 'randomforest': ['G', 'E', 'J', 'F', 'A', 'I', 'D', 'H']}"
      ]
     },
     "execution_count": 31,
     "metadata": {},
     "output_type": "execute_result"
    }
   ],
   "source": [
    "features_dict_target_perm"
   ]
  },
  {
   "cell_type": "code",
   "execution_count": 32,
   "id": "2d33f7ff",
   "metadata": {
    "jupyter": {
     "outputs_hidden": false
    },
    "pycharm": {
     "name": "#%%\n"
    }
   },
   "outputs": [
    {
     "name": "stdout",
     "output_type": "stream",
     "text": [
      "{'I', 'J', 'G', 'D', 'E', 'B', 'A', 'F', 'H'}\n"
     ]
    }
   ],
   "source": [
    "print(utils_target_permutation.intersection_set(features_dict_target_perm , 3))"
   ]
  },
  {
   "cell_type": "code",
   "execution_count": 33,
   "id": "7753b293",
   "metadata": {
    "jupyter": {
     "outputs_hidden": false
    },
    "pycharm": {
     "name": "#%%\n"
    }
   },
   "outputs": [
    {
     "name": "stdout",
     "output_type": "stream",
     "text": [
      "Веса для первый фичи для каждой модели выбраны одинаковыми => все модели имеют одинаковый вес.\n",
      "Отобраны фичи, которые имеют скор больше среднего.\n",
      "Отобрано 4 фичей\n"
     ]
    },
    {
     "data": {
      "text/html": [
       "<div>\n",
       "<style scoped>\n",
       "    .dataframe tbody tr th:only-of-type {\n",
       "        vertical-align: middle;\n",
       "    }\n",
       "\n",
       "    .dataframe tbody tr th {\n",
       "        vertical-align: top;\n",
       "    }\n",
       "\n",
       "    .dataframe thead th {\n",
       "        text-align: right;\n",
       "    }\n",
       "</style>\n",
       "<table border=\"1\" class=\"dataframe\">\n",
       "  <thead>\n",
       "    <tr style=\"text-align: right;\">\n",
       "      <th></th>\n",
       "      <th>features</th>\n",
       "      <th>score</th>\n",
       "    </tr>\n",
       "  </thead>\n",
       "  <tbody>\n",
       "    <tr>\n",
       "      <th>3</th>\n",
       "      <td>G</td>\n",
       "      <td>100.000</td>\n",
       "    </tr>\n",
       "    <tr>\n",
       "      <th>5</th>\n",
       "      <td>E</td>\n",
       "      <td>90.000</td>\n",
       "    </tr>\n",
       "    <tr>\n",
       "      <th>2</th>\n",
       "      <td>J</td>\n",
       "      <td>81.000</td>\n",
       "    </tr>\n",
       "    <tr>\n",
       "      <th>7</th>\n",
       "      <td>A</td>\n",
       "      <td>56.862</td>\n",
       "    </tr>\n",
       "  </tbody>\n",
       "</table>\n",
       "</div>"
      ],
      "text/plain": [
       "  features    score\n",
       "3        G  100.000\n",
       "5        E   90.000\n",
       "2        J   81.000\n",
       "7        A   56.862"
      ]
     },
     "execution_count": 33,
     "metadata": {},
     "output_type": "execute_result"
    }
   ],
   "source": [
    "# отбор фичей при помощи взвешенной частоты фичей\n",
    "utils_target_permutation.aggregated_feature_selection(\n",
    "    feat_dist = features_dict_target_perm, \n",
    "    mean_score_select = True)"
   ]
  },
  {
   "cell_type": "code",
   "execution_count": 34,
   "id": "cec1699e",
   "metadata": {},
   "outputs": [
    {
     "name": "stdout",
     "output_type": "stream",
     "text": [
      "Веса для первый фичи для каждой модели выбраны одинаковыми => все модели имеют одинаковый вес.\n",
      "Отобрано 10 фичей\n"
     ]
    },
    {
     "data": {
      "text/html": [
       "<div>\n",
       "<style scoped>\n",
       "    .dataframe tbody tr th:only-of-type {\n",
       "        vertical-align: middle;\n",
       "    }\n",
       "\n",
       "    .dataframe tbody tr th {\n",
       "        vertical-align: top;\n",
       "    }\n",
       "\n",
       "    .dataframe thead th {\n",
       "        text-align: right;\n",
       "    }\n",
       "</style>\n",
       "<table border=\"1\" class=\"dataframe\">\n",
       "  <thead>\n",
       "    <tr style=\"text-align: right;\">\n",
       "      <th></th>\n",
       "      <th>features</th>\n",
       "      <th>score</th>\n",
       "    </tr>\n",
       "  </thead>\n",
       "  <tbody>\n",
       "    <tr>\n",
       "      <th>3</th>\n",
       "      <td>G</td>\n",
       "      <td>100.000000</td>\n",
       "    </tr>\n",
       "    <tr>\n",
       "      <th>5</th>\n",
       "      <td>E</td>\n",
       "      <td>90.000000</td>\n",
       "    </tr>\n",
       "    <tr>\n",
       "      <th>2</th>\n",
       "      <td>J</td>\n",
       "      <td>81.000000</td>\n",
       "    </tr>\n",
       "    <tr>\n",
       "      <th>7</th>\n",
       "      <td>A</td>\n",
       "      <td>56.862000</td>\n",
       "    </tr>\n",
       "    <tr>\n",
       "      <th>9</th>\n",
       "      <td>H</td>\n",
       "      <td>42.246148</td>\n",
       "    </tr>\n",
       "    <tr>\n",
       "      <th>4</th>\n",
       "      <td>D</td>\n",
       "      <td>40.495804</td>\n",
       "    </tr>\n",
       "    <tr>\n",
       "      <th>6</th>\n",
       "      <td>B</td>\n",
       "      <td>35.560620</td>\n",
       "    </tr>\n",
       "    <tr>\n",
       "      <th>8</th>\n",
       "      <td>F</td>\n",
       "      <td>33.711876</td>\n",
       "    </tr>\n",
       "    <tr>\n",
       "      <th>0</th>\n",
       "      <td>I</td>\n",
       "      <td>33.541144</td>\n",
       "    </tr>\n",
       "    <tr>\n",
       "      <th>1</th>\n",
       "      <td>C</td>\n",
       "      <td>19.558210</td>\n",
       "    </tr>\n",
       "  </tbody>\n",
       "</table>\n",
       "</div>"
      ],
      "text/plain": [
       "  features       score\n",
       "3        G  100.000000\n",
       "5        E   90.000000\n",
       "2        J   81.000000\n",
       "7        A   56.862000\n",
       "9        H   42.246148\n",
       "4        D   40.495804\n",
       "6        B   35.560620\n",
       "8        F   33.711876\n",
       "0        I   33.541144\n",
       "1        C   19.558210"
      ]
     },
     "execution_count": 34,
     "metadata": {},
     "output_type": "execute_result"
    }
   ],
   "source": [
    "utils_target_permutation.aggregated_feature_selection(\n",
    "    feat_dist = features_dict_target_perm, \n",
    "    mean_score_select = False)"
   ]
  },
  {
   "cell_type": "markdown",
   "id": "85e5c2fc",
   "metadata": {
    "pycharm": {
     "name": "#%% md\n"
    }
   },
   "source": [
    "## Демонстрация метода на данных Стоимость жилья"
   ]
  },
  {
   "cell_type": "code",
   "execution_count": 35,
   "id": "cb893136",
   "metadata": {
    "jupyter": {
     "outputs_hidden": false
    },
    "pycharm": {
     "name": "#%%\n"
    }
   },
   "outputs": [
    {
     "name": "stdout",
     "output_type": "stream",
     "text": [
      "Размерность данных: (1460, 81)\n"
     ]
    },
    {
     "data": {
      "text/html": [
       "<div>\n",
       "<style scoped>\n",
       "    .dataframe tbody tr th:only-of-type {\n",
       "        vertical-align: middle;\n",
       "    }\n",
       "\n",
       "    .dataframe tbody tr th {\n",
       "        vertical-align: top;\n",
       "    }\n",
       "\n",
       "    .dataframe thead th {\n",
       "        text-align: right;\n",
       "    }\n",
       "</style>\n",
       "<table border=\"1\" class=\"dataframe\">\n",
       "  <thead>\n",
       "    <tr style=\"text-align: right;\">\n",
       "      <th></th>\n",
       "      <th>Id</th>\n",
       "      <th>MSSubClass</th>\n",
       "      <th>MSZoning</th>\n",
       "      <th>LotFrontage</th>\n",
       "      <th>LotArea</th>\n",
       "      <th>Street</th>\n",
       "      <th>Alley</th>\n",
       "      <th>LotShape</th>\n",
       "      <th>LandContour</th>\n",
       "      <th>Utilities</th>\n",
       "      <th>...</th>\n",
       "      <th>PoolArea</th>\n",
       "      <th>PoolQC</th>\n",
       "      <th>Fence</th>\n",
       "      <th>MiscFeature</th>\n",
       "      <th>MiscVal</th>\n",
       "      <th>MoSold</th>\n",
       "      <th>YrSold</th>\n",
       "      <th>SaleType</th>\n",
       "      <th>SaleCondition</th>\n",
       "      <th>SalePrice</th>\n",
       "    </tr>\n",
       "  </thead>\n",
       "  <tbody>\n",
       "    <tr>\n",
       "      <th>0</th>\n",
       "      <td>1</td>\n",
       "      <td>60</td>\n",
       "      <td>RL</td>\n",
       "      <td>65.0</td>\n",
       "      <td>8450</td>\n",
       "      <td>Pave</td>\n",
       "      <td>NaN</td>\n",
       "      <td>Reg</td>\n",
       "      <td>Lvl</td>\n",
       "      <td>AllPub</td>\n",
       "      <td>...</td>\n",
       "      <td>0</td>\n",
       "      <td>NaN</td>\n",
       "      <td>NaN</td>\n",
       "      <td>NaN</td>\n",
       "      <td>0</td>\n",
       "      <td>2</td>\n",
       "      <td>2008</td>\n",
       "      <td>WD</td>\n",
       "      <td>Normal</td>\n",
       "      <td>208500</td>\n",
       "    </tr>\n",
       "    <tr>\n",
       "      <th>1</th>\n",
       "      <td>2</td>\n",
       "      <td>20</td>\n",
       "      <td>RL</td>\n",
       "      <td>80.0</td>\n",
       "      <td>9600</td>\n",
       "      <td>Pave</td>\n",
       "      <td>NaN</td>\n",
       "      <td>Reg</td>\n",
       "      <td>Lvl</td>\n",
       "      <td>AllPub</td>\n",
       "      <td>...</td>\n",
       "      <td>0</td>\n",
       "      <td>NaN</td>\n",
       "      <td>NaN</td>\n",
       "      <td>NaN</td>\n",
       "      <td>0</td>\n",
       "      <td>5</td>\n",
       "      <td>2007</td>\n",
       "      <td>WD</td>\n",
       "      <td>Normal</td>\n",
       "      <td>181500</td>\n",
       "    </tr>\n",
       "  </tbody>\n",
       "</table>\n",
       "<p>2 rows × 81 columns</p>\n",
       "</div>"
      ],
      "text/plain": [
       "   Id  MSSubClass MSZoning  LotFrontage  LotArea Street Alley LotShape  \\\n",
       "0   1          60       RL         65.0     8450   Pave   NaN      Reg   \n",
       "1   2          20       RL         80.0     9600   Pave   NaN      Reg   \n",
       "\n",
       "  LandContour Utilities  ... PoolArea PoolQC Fence MiscFeature MiscVal MoSold  \\\n",
       "0         Lvl    AllPub  ...        0    NaN   NaN         NaN       0      2   \n",
       "1         Lvl    AllPub  ...        0    NaN   NaN         NaN       0      5   \n",
       "\n",
       "  YrSold  SaleType  SaleCondition  SalePrice  \n",
       "0   2008        WD         Normal     208500  \n",
       "1   2007        WD         Normal     181500  \n",
       "\n",
       "[2 rows x 81 columns]"
      ]
     },
     "execution_count": 35,
     "metadata": {},
     "output_type": "execute_result"
    }
   ],
   "source": [
    "sample = pd.read_csv('../data/train_houseprice.csv')\n",
    "\n",
    "print('Размерность данных:', sample.shape)\n",
    "sample.head(2)"
   ]
  },
  {
   "cell_type": "code",
   "execution_count": 36,
   "id": "73653ac5",
   "metadata": {
    "jupyter": {
     "outputs_hidden": false
    },
    "pycharm": {
     "name": "#%%\n"
    }
   },
   "outputs": [
    {
     "name": "stdout",
     "output_type": "stream",
     "text": [
      "Определены количественные и категориальные переменные!\n"
     ]
    }
   ],
   "source": [
    "num_columns = [\n",
    "    'LotArea', 'LotFrontage', 'TotalBsmtSF', 'PoolArea', 'FullBath'\n",
    "]\n",
    "\n",
    "cat_columns = [\n",
    "    'BldgType', 'CentralAir', 'GarageQual', 'Fence', 'SaleType'\n",
    "]\n",
    "\n",
    "target = ['SalePrice']\n",
    "\n",
    "prep_pipe = base_pipe(\n",
    "    num_columns=num_columns, \n",
    "    cat_columns=cat_columns)"
   ]
  },
  {
   "cell_type": "code",
   "execution_count": 37,
   "id": "f6962f0e",
   "metadata": {
    "pycharm": {
     "name": "#%%\n"
    },
    "scrolled": true,
    "tags": []
   },
   "outputs": [
    {
     "name": "stdout",
     "output_type": "stream",
     "text": [
      "============================== 1. Обучение benchmark-модели! ==============================\n",
      "BEST ITERATION:  795\n",
      "mape на обучающей выборке: 0.087\n",
      "mape на проверочной выборке: 0.158\n",
      "============================== 2. Обучение target permutation-модели! ==============================\n",
      "BEST ITERATION:  447\n",
      "mape на обучающей выборке: 0.266\n",
      "mape на проверочной выборке: 0.350\n",
      "Модель:  xgboost \n",
      "\n",
      "10 признаков было до Target Permutation\n",
      "10 признаков после Target Permutation\n",
      "============================== 1. Обучение benchmark-модели! ==============================\n",
      "BEST ITERATION:  999\n",
      "mape на обучающей выборке: 0.225\n",
      "mape на проверочной выборке: 0.239\n",
      "============================== 2. Обучение target permutation-модели! ==============================\n",
      "BEST ITERATION:  0\n",
      "mape на обучающей выборке: 0.285\n",
      "mape на проверочной выборке: 0.314\n",
      "Модель:  catboost \n",
      "\n",
      "10 признаков было до Target Permutation\n",
      "10 признаков после Target Permutation\n",
      "============================== 1. Обучение benchmark-модели! ==============================\n",
      "BEST ITERATION:  381\n",
      "mape на обучающей выборке: 0.146\n",
      "mape на проверочной выборке: 0.165\n",
      "============================== 2. Обучение target permutation-модели! ==============================\n",
      "BEST ITERATION:  1\n",
      "mape на обучающей выборке: 0.370\n",
      "mape на проверочной выборке: 0.377\n",
      "Модель:  lightboost \n",
      "\n",
      "10 признаков было до Target Permutation\n",
      "6 признаков после Target Permutation\n",
      "============================== 1. Обучение benchmark-модели! ==============================\n",
      "mape на обучающей выборке: 0.167\n",
      "mape на проверочной выборке: 0.189\n",
      "============================== 2. Обучение target permutation-модели! ==============================\n",
      "mape на обучающей выборке: 0.355\n",
      "mape на проверочной выборке: 0.363\n",
      "Модель:  decisiontree \n",
      "\n",
      "10 признаков было до Target Permutation\n",
      "5 признаков после Target Permutation\n",
      "============================== 1. Обучение benchmark-модели! ==============================\n",
      "mape на обучающей выборке: 0.160\n",
      "mape на проверочной выборке: 0.173\n",
      "============================== 2. Обучение target permutation-модели! ==============================\n",
      "mape на обучающей выборке: 0.331\n",
      "mape на проверочной выборке: 0.360\n",
      "Модель:  randomforest \n",
      "\n",
      "10 признаков было до Target Permutation\n",
      "9 признаков после Target Permutation\n",
      "CPU times: user 51.3 s, sys: 2.13 s, total: 53.5 s\n",
      "Wall time: 4.26 s\n"
     ]
    }
   ],
   "source": [
    "%%time\n",
    "features_dict_target_perm = dict()\n",
    "df_importance = dict()\n",
    "\n",
    "for i in range(len(params_list)):\n",
    "    estimator = utils_target_permutation.select_estimator('regression', models_list[i], params_list[i])\n",
    "    \n",
    "    model = TargetPermutationSelection(\n",
    "        main_estimator=estimator, \n",
    "        main_fit_params=fit_params_list[i],\n",
    "        main_prep_pipe=prep_pipe,\n",
    "        main_features=num_columns + cat_columns,\n",
    "        \n",
    "        X_train=sample[num_columns + cat_columns],\n",
    "        y_train=sample[target], \n",
    "        main_metric='mape',\n",
    "        model_type=models_list[i])\n",
    "    \n",
    "    model.calculate_permutation()\n",
    "    \n",
    "    print('Модель: ', models_list[i], '\\n')\n",
    "    features_dict_target_perm[models_list[i]] = model.select_features()\n",
    "    df_importance[models_list[i]] = model.df_fi_final"
   ]
  },
  {
   "cell_type": "code",
   "execution_count": 38,
   "id": "191c71ed",
   "metadata": {
    "pycharm": {
     "name": "#%%\n"
    },
    "scrolled": true,
    "tags": []
   },
   "outputs": [
    {
     "data": {
      "text/plain": [
       "{'xgboost': ['FullBath',\n",
       "  'TotalBsmtSF',\n",
       "  'BldgType',\n",
       "  'PoolArea',\n",
       "  'SaleType',\n",
       "  'GarageQual',\n",
       "  'CentralAir',\n",
       "  'LotArea',\n",
       "  'Fence',\n",
       "  'LotFrontage'],\n",
       " 'catboost': ['TotalBsmtSF',\n",
       "  'FullBath',\n",
       "  'GarageQual',\n",
       "  'SaleType',\n",
       "  'LotFrontage',\n",
       "  'BldgType',\n",
       "  'PoolArea',\n",
       "  'Fence',\n",
       "  'LotArea',\n",
       "  'CentralAir'],\n",
       " 'lightboost': ['TotalBsmtSF',\n",
       "  'FullBath',\n",
       "  'LotArea',\n",
       "  'LotFrontage',\n",
       "  'SaleType',\n",
       "  'BldgType'],\n",
       " 'decisiontree': ['TotalBsmtSF',\n",
       "  'FullBath',\n",
       "  'BldgType',\n",
       "  'SaleType',\n",
       "  'PoolArea'],\n",
       " 'randomforest': ['TotalBsmtSF',\n",
       "  'FullBath',\n",
       "  'BldgType',\n",
       "  'SaleType',\n",
       "  'PoolArea',\n",
       "  'Fence',\n",
       "  'GarageQual',\n",
       "  'CentralAir',\n",
       "  'LotFrontage']}"
      ]
     },
     "execution_count": 38,
     "metadata": {},
     "output_type": "execute_result"
    }
   ],
   "source": [
    "features_dict_target_perm"
   ]
  },
  {
   "cell_type": "code",
   "execution_count": 39,
   "id": "62719a46",
   "metadata": {
    "jupyter": {
     "outputs_hidden": false
    },
    "pycharm": {
     "name": "#%%\n"
    }
   },
   "outputs": [
    {
     "name": "stdout",
     "output_type": "stream",
     "text": [
      "{'CentralAir', 'BldgType', 'LotArea', 'FullBath', 'PoolArea', 'GarageQual', 'SaleType', 'LotFrontage', 'Fence', 'TotalBsmtSF'}\n"
     ]
    }
   ],
   "source": [
    "print(utils_target_permutation.intersection_set(features_dict_target_perm))"
   ]
  },
  {
   "cell_type": "code",
   "execution_count": 40,
   "id": "fc82f313",
   "metadata": {
    "jupyter": {
     "outputs_hidden": false
    },
    "pycharm": {
     "name": "#%%\n"
    }
   },
   "outputs": [
    {
     "name": "stdout",
     "output_type": "stream",
     "text": [
      "Веса для первый фичи для каждой модели выбраны одинаковыми => все модели имеют одинаковый вес.\n",
      "Отобраны фичи, которые имеют скор больше среднего.\n",
      "Отобрано 4 фичей\n"
     ]
    },
    {
     "data": {
      "text/html": [
       "<div>\n",
       "<style scoped>\n",
       "    .dataframe tbody tr th:only-of-type {\n",
       "        vertical-align: middle;\n",
       "    }\n",
       "\n",
       "    .dataframe tbody tr th {\n",
       "        vertical-align: top;\n",
       "    }\n",
       "\n",
       "    .dataframe thead th {\n",
       "        text-align: right;\n",
       "    }\n",
       "</style>\n",
       "<table border=\"1\" class=\"dataframe\">\n",
       "  <thead>\n",
       "    <tr style=\"text-align: right;\">\n",
       "      <th></th>\n",
       "      <th>features</th>\n",
       "      <th>score</th>\n",
       "    </tr>\n",
       "  </thead>\n",
       "  <tbody>\n",
       "    <tr>\n",
       "      <th>9</th>\n",
       "      <td>TotalBsmtSF</td>\n",
       "      <td>98.0000</td>\n",
       "    </tr>\n",
       "    <tr>\n",
       "      <th>3</th>\n",
       "      <td>FullBath</td>\n",
       "      <td>92.0000</td>\n",
       "    </tr>\n",
       "    <tr>\n",
       "      <th>1</th>\n",
       "      <td>BldgType</td>\n",
       "      <td>72.2196</td>\n",
       "    </tr>\n",
       "    <tr>\n",
       "      <th>6</th>\n",
       "      <td>SaleType</td>\n",
       "      <td>69.9840</td>\n",
       "    </tr>\n",
       "  </tbody>\n",
       "</table>\n",
       "</div>"
      ],
      "text/plain": [
       "      features    score\n",
       "9  TotalBsmtSF  98.0000\n",
       "3     FullBath  92.0000\n",
       "1     BldgType  72.2196\n",
       "6     SaleType  69.9840"
      ]
     },
     "execution_count": 40,
     "metadata": {},
     "output_type": "execute_result"
    }
   ],
   "source": [
    "# отбор фичей при помощи взвешенной частоты фичей\n",
    "utils_target_permutation.aggregated_feature_selection(\n",
    "    feat_dist = features_dict_target_perm, \n",
    "    mean_score_select = True)"
   ]
  },
  {
   "cell_type": "code",
   "execution_count": 41,
   "id": "c6422ddb",
   "metadata": {},
   "outputs": [
    {
     "name": "stdout",
     "output_type": "stream",
     "text": [
      "Веса для первый фичи для каждой модели выбраны одинаковыми => все модели имеют одинаковый вес.\n",
      "Отобрано 10 фичей\n"
     ]
    },
    {
     "data": {
      "text/html": [
       "<div>\n",
       "<style scoped>\n",
       "    .dataframe tbody tr th:only-of-type {\n",
       "        vertical-align: middle;\n",
       "    }\n",
       "\n",
       "    .dataframe tbody tr th {\n",
       "        vertical-align: top;\n",
       "    }\n",
       "\n",
       "    .dataframe thead th {\n",
       "        text-align: right;\n",
       "    }\n",
       "</style>\n",
       "<table border=\"1\" class=\"dataframe\">\n",
       "  <thead>\n",
       "    <tr style=\"text-align: right;\">\n",
       "      <th></th>\n",
       "      <th>features</th>\n",
       "      <th>score</th>\n",
       "    </tr>\n",
       "  </thead>\n",
       "  <tbody>\n",
       "    <tr>\n",
       "      <th>9</th>\n",
       "      <td>TotalBsmtSF</td>\n",
       "      <td>98.000000</td>\n",
       "    </tr>\n",
       "    <tr>\n",
       "      <th>3</th>\n",
       "      <td>FullBath</td>\n",
       "      <td>92.000000</td>\n",
       "    </tr>\n",
       "    <tr>\n",
       "      <th>1</th>\n",
       "      <td>BldgType</td>\n",
       "      <td>72.219600</td>\n",
       "    </tr>\n",
       "    <tr>\n",
       "      <th>6</th>\n",
       "      <td>SaleType</td>\n",
       "      <td>69.984000</td>\n",
       "    </tr>\n",
       "    <tr>\n",
       "      <th>4</th>\n",
       "      <td>PoolArea</td>\n",
       "      <td>51.452820</td>\n",
       "    </tr>\n",
       "    <tr>\n",
       "      <th>7</th>\n",
       "      <td>LotFrontage</td>\n",
       "      <td>44.059754</td>\n",
       "    </tr>\n",
       "    <tr>\n",
       "      <th>5</th>\n",
       "      <td>GarageQual</td>\n",
       "      <td>38.638620</td>\n",
       "    </tr>\n",
       "    <tr>\n",
       "      <th>2</th>\n",
       "      <td>LotArea</td>\n",
       "      <td>34.375282</td>\n",
       "    </tr>\n",
       "    <tr>\n",
       "      <th>8</th>\n",
       "      <td>Fence</td>\n",
       "      <td>29.985082</td>\n",
       "    </tr>\n",
       "    <tr>\n",
       "      <th>0</th>\n",
       "      <td>CentralAir</td>\n",
       "      <td>27.943168</td>\n",
       "    </tr>\n",
       "  </tbody>\n",
       "</table>\n",
       "</div>"
      ],
      "text/plain": [
       "      features      score\n",
       "9  TotalBsmtSF  98.000000\n",
       "3     FullBath  92.000000\n",
       "1     BldgType  72.219600\n",
       "6     SaleType  69.984000\n",
       "4     PoolArea  51.452820\n",
       "7  LotFrontage  44.059754\n",
       "5   GarageQual  38.638620\n",
       "2      LotArea  34.375282\n",
       "8        Fence  29.985082\n",
       "0   CentralAir  27.943168"
      ]
     },
     "execution_count": 41,
     "metadata": {},
     "output_type": "execute_result"
    }
   ],
   "source": [
    "utils_target_permutation.aggregated_feature_selection(\n",
    "    feat_dist = features_dict_target_perm, \n",
    "    mean_score_select = False)"
   ]
  },
  {
   "cell_type": "code",
   "execution_count": null,
   "id": "a976768b",
   "metadata": {},
   "outputs": [],
   "source": []
  },
  {
   "cell_type": "code",
   "execution_count": null,
   "id": "a0c3185d",
   "metadata": {},
   "outputs": [],
   "source": []
  },
  {
   "cell_type": "raw",
   "id": "169c56dd",
   "metadata": {},
   "source": []
  },
  {
   "cell_type": "raw",
   "id": "22fa5f64",
   "metadata": {},
   "source": []
  }
 ],
 "metadata": {
  "kernelspec": {
   "display_name": "Python 3 (ipykernel)",
   "language": "python",
   "name": "python3"
  },
  "language_info": {
   "codemirror_mode": {
    "name": "ipython",
    "version": 3
   },
   "file_extension": ".py",
   "mimetype": "text/x-python",
   "name": "python",
   "nbconvert_exporter": "python",
   "pygments_lexer": "ipython3",
   "version": "3.9.7"
  }
 },
 "nbformat": 4,
 "nbformat_minor": 5
}
